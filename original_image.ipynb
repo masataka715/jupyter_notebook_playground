{
  "nbformat": 4,
  "nbformat_minor": 0,
  "metadata": {
    "colab": {
      "name": "original_image.ipynb",
      "provenance": [],
      "collapsed_sections": [],
      "toc_visible": true,
      "mount_file_id": "1P1TAC4yFGkCK4LpjzJ4_1GNImvm4UHJA",
      "authorship_tag": "ABX9TyPaL4gAmCUBzrcdFler/+OY"
    },
    "kernelspec": {
      "name": "python3",
      "display_name": "Python 3"
    },
    "accelerator": "GPU"
  },
  "cells": [
    {
      "cell_type": "code",
      "metadata": {
        "id": "kVdESDa6n3hF"
      },
      "source": [
        "from keras.utils import np_utils\n",
        "from keras.models import Sequential\n",
        "from keras.layers.convolutional import MaxPooling2D\n",
        "from keras.layers import Activation, Conv2D, Flatten, Dense,Dropout\n",
        "from sklearn.model_selection import train_test_split\n",
        "from keras.optimizers import SGD, Adadelta, Adagrad, Adam, Adamax, RMSprop, Nadam\n",
        "from PIL import Image\n",
        "import numpy as np\n",
        "import glob\n",
        "import matplotlib.pyplot as plt\n",
        "import time\n",
        "import os"
      ],
      "execution_count": null,
      "outputs": []
    },
    {
      "cell_type": "code",
      "metadata": {
        "id": "Ts_LSibL9R_W"
      },
      "source": [
        "folder = os.listdir(\"drive/My Drive/images\")\n",
        "if '.ipynb_checkpoints' in folder:\n",
        "  folder.remove('.ipynb_checkpoints')\n",
        "image_size = 50\n",
        "dense_size  = len(folder)\n",
        "\n",
        "X = []\n",
        "Y = []\n",
        "for index, name in enumerate(folder):\n",
        "  dir = \"./drive/My Drive/images/\" + name\n",
        "  files = glob.glob(dir + \"/*.png\")\n",
        "  for i, file in enumerate(files):\n",
        "    image = Image.open(file) # 画像ファイルを読み込み\n",
        "    image = image.convert(\"RGB\")\n",
        "    image = image.resize((image_size, image_size))\n",
        "    img_array = np.asarray(image) # N次元配列に変換 asが付くと参照コピー\n",
        "    X.append(img_array)\n",
        "    Y.append(index)\n",
        "    # increase(X, Y, img_array, index)\n",
        "\n",
        "X = np.array(X)\n",
        "Y = np.array(Y)\n",
        "X = X.astype('float32')\n",
        "X = X / 255.0\n",
        "\n",
        "x_train, x_test, y_train, y_test = train_test_split(X, Y, test_size=0.10)"
      ],
      "execution_count": null,
      "outputs": []
    },
    {
      "cell_type": "code",
      "metadata": {
        "id": "5g8IWyc_4jVC"
      },
      "source": [
        "import cv2\n",
        "from keras.preprocessing.image import ImageDataGenerator, array_to_img\n",
        "# https://keras.io/ja/preprocessing/image/\n",
        "\n",
        "def increase(X, Y, img_array, index):\n",
        "\n",
        "  # ndarrayとして読み込まれる。RGBではなく、BGRとして読み込まれる\n",
        "  # img_array = cv2.imread(\"./drive/My Drive/images/food/curry.png\") \n",
        "  # img_array = cv2.cvtColor(img_array, cv2.COLOR_BGR2RGB)\n",
        "  img_array = img_array.reshape((1,) + img_array.shape)  # 4次元データに変換（flow()に渡すため)\n",
        "\n",
        "  datagen = ImageDataGenerator(\n",
        "          horizontal_flip=True,\n",
        "          fill_mode='nearest'\n",
        "          )\n",
        "\n",
        "  # flow()により、ランダム変換したイメージのバッチを作成。\n",
        "  i = 0\n",
        "  for batch in datagen.flow(img_array, batch_size=1, save_format='png'):\n",
        "    img_array = array_to_img(batch[0])\n",
        "    img_array = np.array(img_array)\n",
        "    # plt.imshow(img_array)\n",
        "    # plt.show()\n",
        "    i += 1\n",
        "    if i == 100:\n",
        "      break\n",
        "    X.append(img_array)\n",
        "    Y.append(index)"
      ],
      "execution_count": null,
      "outputs": []
    },
    {
      "cell_type": "code",
      "metadata": {
        "id": "t-epjZI4KS9j"
      },
      "source": [
        "# 32bit にキャスト\n",
        "x_train, x_test = x_train.astype('float32'), x_test.astype('float32')\n",
        "y_train, y_test = y_train.astype('int32'), y_test.astype('int32')"
      ],
      "execution_count": null,
      "outputs": []
    },
    {
      "cell_type": "code",
      "metadata": {
        "id": "ubCrfWJj5fS9"
      },
      "source": [
        "x_train"
      ],
      "execution_count": null,
      "outputs": []
    },
    {
      "cell_type": "code",
      "metadata": {
        "id": "-rhOiiv3_yEy"
      },
      "source": [
        "import os, random\n",
        "import tensorflow as tf\n",
        "\n",
        "def reset_seed(seed=0):\n",
        "    os.environ['PYTHONHASHSEED'] = '0'\n",
        "    random.seed(seed)\n",
        "    np.random.seed(seed)\n",
        "    tf.random.set_seed(seed)"
      ],
      "execution_count": null,
      "outputs": []
    },
    {
      "cell_type": "code",
      "metadata": {
        "id": "hEhf-bBAo7DO"
      },
      "source": [
        "from tensorflow.keras.applications import resnet, VGG16\n",
        "\n",
        "# 学習済みモデルVGG16をインスタンス化\n",
        "# VGG16 では画像サイズ (224, 224, 3) の画像で事前学習されている\n",
        "# include_top=False 事前学習済みの全結合層を除く(ImageNet では 1000 クラス分類ですが、今回は 10 クラス分類なので最終層に全結合層を自分の問題設定に合うように追加)\n",
        "# weights='imagenet' 事前学習済みの重みを引き継ぐ\n",
        "base_model = VGG16(input_shape=(224, 224, 3),\n",
        "                                      include_top=False, weights='imagenet')"
      ],
      "execution_count": null,
      "outputs": []
    },
    {
      "cell_type": "code",
      "metadata": {
        "id": "uBI1Pkaiwz3s",
        "colab": {
          "base_uri": "https://localhost:8080/"
        },
        "outputId": "6f0db40f-e6fd-4397-fd6c-996295723a59"
      },
      "source": [
        "#画像のサイズ(32, 32, 3)をVGG16の学習サイズ(224, 224, 3)に大きくする\n",
        "import cv2\n",
        "\n",
        "_train, _test = [], []\n",
        "for img in x_train:\n",
        "    _train.append(cv2.resize(src=img, dsize=(224, 224)))\n",
        "for img in x_test:    \n",
        "    _test.append(cv2.resize(src=img, dsize=(224, 224)))\n",
        "\n",
        "# リストから ndarray に変換し、正規化\n",
        "x_train = np.array(_train, dtype='float32') / 255.0\n",
        "x_test = np.array(_test, dtype='float32') / 255.0\n",
        "x_train.shape, x_test.shape"
      ],
      "execution_count": null,
      "outputs": [
        {
          "output_type": "execute_result",
          "data": {
            "text/plain": [
              "((36, 224, 224, 3), (4, 224, 224, 3))"
            ]
          },
          "metadata": {
            "tags": []
          },
          "execution_count": 24
        }
      ]
    },
    {
      "cell_type": "code",
      "metadata": {
        "id": "yVM_o5ZyxpjC"
      },
      "source": [
        "from tensorflow.keras import models,layers\n",
        "\n",
        "reset_seed(0)\n",
        "\n",
        "# 全結合層の追加\n",
        "# Flattenの代わりに、GlobalAveragePooling2Dを使う（学習すべきパラメータ数を減らすため）\n",
        "finetuned_model = models.Sequential([\n",
        "    base_model,\n",
        "    layers.GlobalAveragePooling2D(),\n",
        "    layers.Dense(512, activation='relu'),\n",
        "    layers.Dense(10, activation='softmax')\n",
        "])"
      ],
      "execution_count": null,
      "outputs": []
    },
    {
      "cell_type": "code",
      "metadata": {
        "id": "qn9XRPgayOz-",
        "colab": {
          "base_uri": "https://localhost:8080/"
        },
        "outputId": "7aa99ff5-5797-45a4-b07d-85ef40a8d814"
      },
      "source": [
        "optimizer = tf.keras.optimizers.SGD(lr=0.01)\n",
        "finetuned_model.compile(optimizer=optimizer,\n",
        "                        loss='sparse_categorical_crossentropy',\n",
        "                        metrics=['accuracy'])\n",
        "finetuned_model.summary()"
      ],
      "execution_count": null,
      "outputs": [
        {
          "output_type": "stream",
          "text": [
            "Model: \"sequential_1\"\n",
            "_________________________________________________________________\n",
            "Layer (type)                 Output Shape              Param #   \n",
            "=================================================================\n",
            "vgg16 (Functional)           (None, 7, 7, 512)         14714688  \n",
            "_________________________________________________________________\n",
            "global_average_pooling2d_1 ( (None, 512)               0         \n",
            "_________________________________________________________________\n",
            "dense_2 (Dense)              (None, 512)               262656    \n",
            "_________________________________________________________________\n",
            "dense_3 (Dense)              (None, 10)                5130      \n",
            "=================================================================\n",
            "Total params: 14,982,474\n",
            "Trainable params: 14,982,474\n",
            "Non-trainable params: 0\n",
            "_________________________________________________________________\n"
          ],
          "name": "stdout"
        }
      ]
    },
    {
      "cell_type": "code",
      "metadata": {
        "id": "l0dmgW6iyYkj",
        "colab": {
          "base_uri": "https://localhost:8080/"
        },
        "outputId": "ce31ebe0-8c99-457c-efcc-9ef2ac2a5e49"
      },
      "source": [
        "# 学習前の正解率\n",
        "loss, accuracy = finetuned_model.evaluate(x_test, y_test)"
      ],
      "execution_count": null,
      "outputs": [
        {
          "output_type": "stream",
          "text": [
            "1/1 [==============================] - 0s 2ms/step - loss: 2.4041 - accuracy: 0.0000e+00\n"
          ],
          "name": "stdout"
        }
      ]
    },
    {
      "cell_type": "code",
      "metadata": {
        "id": "rtGFziVL6Zob",
        "colab": {
          "base_uri": "https://localhost:8080/"
        },
        "outputId": "385572c7-271f-4eda-838f-271b45b93dad"
      },
      "source": [
        "print(f'loss : {loss}, acuracy : {accuracy}')\n",
        "# 水増し前　loss : 2.015674114227295, acuracy : 0.75"
      ],
      "execution_count": null,
      "outputs": [
        {
          "output_type": "stream",
          "text": [
            "loss : 2.321043014526367, acuracy : 0.0\n"
          ],
          "name": "stdout"
        }
      ]
    },
    {
      "cell_type": "code",
      "metadata": {
        "id": "18X_0Cg07Jxw",
        "colab": {
          "base_uri": "https://localhost:8080/"
        },
        "outputId": "cdc543b0-3191-4f25-ee66-ea158f9d09ce"
      },
      "source": [
        "history = finetuned_model.fit(x_train, y_train, \n",
        "                    epochs=10, \n",
        "                    batch_size=32,\n",
        "                    validation_data=(x_test, y_test))"
      ],
      "execution_count": null,
      "outputs": [
        {
          "output_type": "stream",
          "text": [
            "Epoch 1/10\n",
            "2/2 [==============================] - 1s 535ms/step - loss: 2.2337 - accuracy: 0.0000e+00 - val_loss: 2.3655 - val_accuracy: 0.2500\n",
            "Epoch 2/10\n",
            "2/2 [==============================] - 0s 192ms/step - loss: 1.5097 - accuracy: 0.5278 - val_loss: 0.6486 - val_accuracy: 0.7500\n",
            "Epoch 3/10\n",
            "2/2 [==============================] - 0s 198ms/step - loss: 1.2326 - accuracy: 0.4722 - val_loss: 0.8319 - val_accuracy: 0.7500\n",
            "Epoch 4/10\n",
            "2/2 [==============================] - 0s 193ms/step - loss: 0.9721 - accuracy: 0.5833 - val_loss: 2.0634 - val_accuracy: 0.2500\n",
            "Epoch 5/10\n",
            "2/2 [==============================] - 0s 195ms/step - loss: 1.2673 - accuracy: 0.5278 - val_loss: 0.6798 - val_accuracy: 0.7500\n",
            "Epoch 6/10\n",
            "2/2 [==============================] - 0s 196ms/step - loss: 0.8769 - accuracy: 0.4722 - val_loss: 0.6854 - val_accuracy: 0.7500\n",
            "Epoch 7/10\n",
            "2/2 [==============================] - 0s 196ms/step - loss: 0.7295 - accuracy: 0.5278 - val_loss: 2.1669 - val_accuracy: 0.2500\n",
            "Epoch 8/10\n",
            "2/2 [==============================] - 0s 194ms/step - loss: 1.3163 - accuracy: 0.5278 - val_loss: 0.8089 - val_accuracy: 0.2500\n",
            "Epoch 9/10\n",
            "2/2 [==============================] - 0s 196ms/step - loss: 0.7937 - accuracy: 0.4167 - val_loss: 2.2884 - val_accuracy: 0.2500\n",
            "Epoch 10/10\n",
            "2/2 [==============================] - 0s 195ms/step - loss: 1.2278 - accuracy: 0.5278 - val_loss: 0.7630 - val_accuracy: 0.7500\n"
          ],
          "name": "stdout"
        }
      ]
    },
    {
      "cell_type": "code",
      "metadata": {
        "id": "cSBKjkBP7dGK",
        "colab": {
          "base_uri": "https://localhost:8080/",
          "height": 295
        },
        "outputId": "91fdadc0-f572-46ac-94ae-27d074665f02"
      },
      "source": [
        "import pandas as pd\n",
        "import matplotlib.pyplot as plt\n",
        "\n",
        "results = pd.DataFrame(history.history)\n",
        "results[['accuracy', 'val_accuracy']].plot(title='accuracy')\n",
        "plt.xlabel('epochs');"
      ],
      "execution_count": null,
      "outputs": [
        {
          "output_type": "display_data",
          "data": {
            "image/png": "[encoded data removed]",
            "text/plain": [
              "<Figure size 432x288 with 1 Axes>"
            ]
          },
          "metadata": {
            "tags": [],
            "needs_background": "light"
          }
        }
      ]
    }
  ]
}