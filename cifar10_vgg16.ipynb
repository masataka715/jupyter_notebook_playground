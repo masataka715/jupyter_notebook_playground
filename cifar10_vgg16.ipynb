{
  "nbformat": 4,
  "nbformat_minor": 0,
  "metadata": {
    "colab": {
      "name": "cifar10_vgg16.ipynb",
      "provenance": [],
      "collapsed_sections": [],
      "authorship_tag": "ABX9TyMA4Kqhyu9V5VAx3YdVvd2T",
      "include_colab_link": true
    },
    "kernelspec": {
      "name": "python3",
      "display_name": "Python 3"
    },
    "accelerator": "GPU"
  },
  "cells": [
    {
      "cell_type": "markdown",
      "metadata": {
        "id": "view-in-github",
        "colab_type": "text"
      },
      "source": [
        "<a href=\"https://colab.research.google.com/github/masataka715/jupyter_notebook_playground/blob/master/cifar10_vgg16.ipynb\" target=\"_parent\"><img src=\"https://colab.research.google.com/assets/colab-badge.svg\" alt=\"Open In Colab\"/></a>"
      ]
    },
    {
      "cell_type": "code",
      "metadata": {
        "id": "u1yJHdy-Uyge"
      },
      "source": [
        "import numpy as np\n",
        "import pandas as pd\n",
        "import matplotlib.pyplot as plt\n",
        "import cv2\n",
        "\n",
        "import tensorflow as tf"
      ],
      "execution_count": 1,
      "outputs": []
    },
    {
      "cell_type": "code",
      "metadata": {
        "id": "XTkVci6OpeIL",
        "outputId": "66781b17-436d-4108-83a1-d08a58f5ec71",
        "colab": {
          "base_uri": "https://localhost:8080/",
          "height": 544
        }
      },
      "source": [
        "# GPU が使用可能であることを確認\n",
        "from tensorflow.python.client import device_lib\n",
        "print(device_lib.list_local_devices())"
      ],
      "execution_count": null,
      "outputs": [
        {
          "output_type": "stream",
          "text": [
            "[name: \"/device:CPU:0\"\n",
            "device_type: \"CPU\"\n",
            "memory_limit: 268435456\n",
            "locality {\n",
            "}\n",
            "incarnation: 9771414105756611357\n",
            ", name: \"/device:XLA_CPU:0\"\n",
            "device_type: \"XLA_CPU\"\n",
            "memory_limit: 17179869184\n",
            "locality {\n",
            "}\n",
            "incarnation: 8251451558515461144\n",
            "physical_device_desc: \"device: XLA_CPU device\"\n",
            ", name: \"/device:XLA_GPU:0\"\n",
            "device_type: \"XLA_GPU\"\n",
            "memory_limit: 17179869184\n",
            "locality {\n",
            "}\n",
            "incarnation: 13703323140844509013\n",
            "physical_device_desc: \"device: XLA_GPU device\"\n",
            ", name: \"/device:GPU:0\"\n",
            "device_type: \"GPU\"\n",
            "memory_limit: 14640891840\n",
            "locality {\n",
            "  bus_id: 1\n",
            "  links {\n",
            "  }\n",
            "}\n",
            "incarnation: 3324158463573536839\n",
            "physical_device_desc: \"device: 0, name: Tesla T4, pci bus id: 0000:00:04.0, compute capability: 7.5\"\n",
            "]\n"
          ],
          "name": "stdout"
        }
      ]
    },
    {
      "cell_type": "code",
      "metadata": {
        "id": "YsxTxxp6pt6i",
        "outputId": "bfed2837-1a57-4098-c31a-3fe40aa7f691",
        "colab": {
          "base_uri": "https://localhost:8080/",
          "height": 34
        }
      },
      "source": [
        "train, test = tf.keras.datasets.cifar10.load_data()\n",
        "# 画像の情報\n",
        "train[0].shape, test[0].shape"
      ],
      "execution_count": 2,
      "outputs": [
        {
          "output_type": "execute_result",
          "data": {
            "text/plain": [
              "((50000, 32, 32, 3), (10000, 32, 32, 3))"
            ]
          },
          "metadata": {
            "tags": []
          },
          "execution_count": 2
        }
      ]
    },
    {
      "cell_type": "code",
      "metadata": {
        "id": "VYFDTCD_qbfN",
        "outputId": "d01a787e-0a59-4191-eca4-d61dad772bc4",
        "colab": {
          "base_uri": "https://localhost:8080/",
          "height": 34
        }
      },
      "source": [
        "# ラベルの情報\n",
        "train[1].shape, test[1].shape"
      ],
      "execution_count": null,
      "outputs": [
        {
          "output_type": "execute_result",
          "data": {
            "text/plain": [
              "((50000, 1), (10000, 1))"
            ]
          },
          "metadata": {
            "tags": []
          },
          "execution_count": 8
        }
      ]
    },
    {
      "cell_type": "code",
      "metadata": {
        "id": "dsxzbOXzqh3a"
      },
      "source": [
        "# 学習用データセットとテスト用データセットに対して正規化\n",
        "x_train = train[0] / 255\n",
        "x_test = test[0] / 255\n",
        "\n",
        "# 目標値の切り分け\n",
        "t_train = train[1]\n",
        "t_test = test[1]"
      ],
      "execution_count": null,
      "outputs": []
    },
    {
      "cell_type": "code",
      "metadata": {
        "id": "mlof2saiqqN8"
      },
      "source": [
        "# 32bit にキャスト\n",
        "x_train, x_test = x_train.astype('float32'), x_test.astype('float32')\n",
        "t_train, t_test = t_train.astype('int32'), t_test.astype('int32')"
      ],
      "execution_count": null,
      "outputs": []
    },
    {
      "cell_type": "code",
      "metadata": {
        "id": "a0PkuuI2q0Co"
      },
      "source": [
        "import os, random\n",
        "\n",
        "def reset_seed(seed=0):\n",
        "    os.environ['PYTHONHASHSEED'] = '0'\n",
        "    random.seed(seed)\n",
        "    np.random.seed(seed)\n",
        "    tf.random.set_seed(seed)"
      ],
      "execution_count": 3,
      "outputs": []
    },
    {
      "cell_type": "code",
      "metadata": {
        "id": "nTRgsdkXq5Oc",
        "outputId": "9e7b1fd1-3a56-4f25-e31e-7a791bc070be",
        "colab": {
          "base_uri": "https://localhost:8080/",
          "height": 323
        }
      },
      "source": [
        "from tensorflow.keras import models,layers\n",
        "\n",
        "# シードの固定\n",
        "reset_seed(0)\n",
        "\n",
        "# モデルの構築\n",
        "model = models.Sequential([\n",
        "    # 特徴量抽出\n",
        "    layers.Conv2D(filters=3, kernel_size=(3, 3), activation='relu', input_shape=(32, 32, 3)),\n",
        "    layers.MaxPool2D(pool_size=(2, 2)),\n",
        "    # ベクトル化\n",
        "    layers.Flatten(),\n",
        "    # 識別\n",
        "    layers.Dense(100, activation='relu'),\n",
        "    layers.Dense(10, activation='softmax')\n",
        "])\n",
        "model.summary()"
      ],
      "execution_count": null,
      "outputs": [
        {
          "output_type": "stream",
          "text": [
            "Model: \"sequential\"\n",
            "_________________________________________________________________\n",
            "Layer (type)                 Output Shape              Param #   \n",
            "=================================================================\n",
            "conv2d (Conv2D)              (None, 30, 30, 3)         84        \n",
            "_________________________________________________________________\n",
            "max_pooling2d (MaxPooling2D) (None, 15, 15, 3)         0         \n",
            "_________________________________________________________________\n",
            "flatten (Flatten)            (None, 675)               0         \n",
            "_________________________________________________________________\n",
            "dense (Dense)                (None, 100)               67600     \n",
            "_________________________________________________________________\n",
            "dense_1 (Dense)              (None, 10)                1010      \n",
            "=================================================================\n",
            "Total params: 68,694\n",
            "Trainable params: 68,694\n",
            "Non-trainable params: 0\n",
            "_________________________________________________________________\n"
          ],
          "name": "stdout"
        }
      ]
    },
    {
      "cell_type": "code",
      "metadata": {
        "id": "ETZjsdH1rRz-",
        "outputId": "2f77c671-14ba-4f0a-94c9-19f8e9dec104",
        "colab": {
          "base_uri": "https://localhost:8080/",
          "height": 1000
        }
      },
      "source": [
        "optimizer = tf.keras.optimizers.Adam(lr=0.01)\n",
        "model.compile(optimizer=optimizer,\n",
        "              loss='sparse_categorical_crossentropy',\n",
        "              metrics=['accuracy'])\n",
        "\n",
        "batch_size = 4096\n",
        "epochs = 30\n",
        "history = model.fit(x_train, t_train,\n",
        "                batch_size=batch_size,\n",
        "                epochs=epochs, \n",
        "                validation_data=(x_test, t_test))"
      ],
      "execution_count": null,
      "outputs": [
        {
          "output_type": "stream",
          "text": [
            "Epoch 1/30\n",
            "13/13 [==============================] - 1s 65ms/step - loss: 2.1485 - accuracy: 0.2161 - val_loss: 1.9056 - val_accuracy: 0.3299\n",
            "Epoch 2/30\n",
            "13/13 [==============================] - 0s 35ms/step - loss: 1.8597 - accuracy: 0.3517 - val_loss: 1.7646 - val_accuracy: 0.3812\n",
            "Epoch 3/30\n",
            "13/13 [==============================] - 0s 34ms/step - loss: 1.6794 - accuracy: 0.4031 - val_loss: 1.6413 - val_accuracy: 0.4124\n",
            "Epoch 4/30\n",
            "13/13 [==============================] - 0s 36ms/step - loss: 1.5723 - accuracy: 0.4380 - val_loss: 1.5561 - val_accuracy: 0.4422\n",
            "Epoch 5/30\n",
            "13/13 [==============================] - 0s 35ms/step - loss: 1.4943 - accuracy: 0.4659 - val_loss: 1.5116 - val_accuracy: 0.4553\n",
            "Epoch 6/30\n",
            "13/13 [==============================] - 0s 34ms/step - loss: 1.4458 - accuracy: 0.4834 - val_loss: 1.4698 - val_accuracy: 0.4743\n",
            "Epoch 7/30\n",
            "13/13 [==============================] - 0s 36ms/step - loss: 1.4010 - accuracy: 0.5017 - val_loss: 1.4626 - val_accuracy: 0.4777\n",
            "Epoch 8/30\n",
            "13/13 [==============================] - 0s 36ms/step - loss: 1.3728 - accuracy: 0.5133 - val_loss: 1.4414 - val_accuracy: 0.4893\n",
            "Epoch 9/30\n",
            "13/13 [==============================] - 0s 35ms/step - loss: 1.3640 - accuracy: 0.5192 - val_loss: 1.4315 - val_accuracy: 0.4968\n",
            "Epoch 10/30\n",
            "13/13 [==============================] - 0s 36ms/step - loss: 1.3308 - accuracy: 0.5308 - val_loss: 1.4370 - val_accuracy: 0.4915\n",
            "Epoch 11/30\n",
            "13/13 [==============================] - 0s 35ms/step - loss: 1.2810 - accuracy: 0.5479 - val_loss: 1.3988 - val_accuracy: 0.5081\n",
            "Epoch 12/30\n",
            "13/13 [==============================] - 0s 35ms/step - loss: 1.2466 - accuracy: 0.5600 - val_loss: 1.3839 - val_accuracy: 0.5147\n",
            "Epoch 13/30\n",
            "13/13 [==============================] - 0s 35ms/step - loss: 1.2234 - accuracy: 0.5696 - val_loss: 1.3727 - val_accuracy: 0.5175\n",
            "Epoch 14/30\n",
            "13/13 [==============================] - 0s 34ms/step - loss: 1.2015 - accuracy: 0.5783 - val_loss: 1.3808 - val_accuracy: 0.5140\n",
            "Epoch 15/30\n",
            "13/13 [==============================] - 0s 34ms/step - loss: 1.1705 - accuracy: 0.5885 - val_loss: 1.3856 - val_accuracy: 0.5167\n",
            "Epoch 16/30\n",
            "13/13 [==============================] - 0s 34ms/step - loss: 1.1518 - accuracy: 0.5960 - val_loss: 1.4203 - val_accuracy: 0.5100\n",
            "Epoch 17/30\n",
            "13/13 [==============================] - 0s 36ms/step - loss: 1.1458 - accuracy: 0.5995 - val_loss: 1.3740 - val_accuracy: 0.5208\n",
            "Epoch 18/30\n",
            "13/13 [==============================] - 0s 33ms/step - loss: 1.1119 - accuracy: 0.6083 - val_loss: 1.3689 - val_accuracy: 0.5343\n",
            "Epoch 19/30\n",
            "13/13 [==============================] - 0s 34ms/step - loss: 1.0876 - accuracy: 0.6193 - val_loss: 1.3759 - val_accuracy: 0.5258\n",
            "Epoch 20/30\n",
            "13/13 [==============================] - 0s 37ms/step - loss: 1.0765 - accuracy: 0.6229 - val_loss: 1.4076 - val_accuracy: 0.5219\n",
            "Epoch 21/30\n",
            "13/13 [==============================] - 0s 36ms/step - loss: 1.0820 - accuracy: 0.6205 - val_loss: 1.4065 - val_accuracy: 0.5265\n",
            "Epoch 22/30\n",
            "13/13 [==============================] - 0s 34ms/step - loss: 1.0561 - accuracy: 0.6297 - val_loss: 1.4005 - val_accuracy: 0.5251\n",
            "Epoch 23/30\n",
            "13/13 [==============================] - 0s 36ms/step - loss: 1.0279 - accuracy: 0.6411 - val_loss: 1.4253 - val_accuracy: 0.5211\n",
            "Epoch 24/30\n",
            "13/13 [==============================] - 0s 36ms/step - loss: 1.0216 - accuracy: 0.6429 - val_loss: 1.3923 - val_accuracy: 0.5294\n",
            "Epoch 25/30\n",
            "13/13 [==============================] - 0s 36ms/step - loss: 1.0026 - accuracy: 0.6511 - val_loss: 1.4148 - val_accuracy: 0.5287\n",
            "Epoch 26/30\n",
            "13/13 [==============================] - 0s 36ms/step - loss: 0.9858 - accuracy: 0.6559 - val_loss: 1.4147 - val_accuracy: 0.5314\n",
            "Epoch 27/30\n",
            "13/13 [==============================] - 0s 36ms/step - loss: 0.9702 - accuracy: 0.6601 - val_loss: 1.4390 - val_accuracy: 0.5166\n",
            "Epoch 28/30\n",
            "13/13 [==============================] - 0s 34ms/step - loss: 0.9594 - accuracy: 0.6631 - val_loss: 1.4343 - val_accuracy: 0.5217\n",
            "Epoch 29/30\n",
            "13/13 [==============================] - 0s 36ms/step - loss: 0.9446 - accuracy: 0.6705 - val_loss: 1.4486 - val_accuracy: 0.5171\n",
            "Epoch 30/30\n",
            "13/13 [==============================] - 0s 34ms/step - loss: 0.9343 - accuracy: 0.6731 - val_loss: 1.4634 - val_accuracy: 0.5232\n"
          ],
          "name": "stdout"
        }
      ]
    },
    {
      "cell_type": "code",
      "metadata": {
        "id": "Gg3b1TtussVp",
        "outputId": "2e135fb3-30f4-4f36-eb2c-1608948c1151",
        "colab": {
          "base_uri": "https://localhost:8080/",
          "height": 357
        }
      },
      "source": [
        "!nvidia-smi"
      ],
      "execution_count": null,
      "outputs": [
        {
          "output_type": "stream",
          "text": [
            "Wed Oct 28 05:33:57 2020       \n",
            "+-----------------------------------------------------------------------------+\n",
            "| NVIDIA-SMI 455.23.05    Driver Version: 418.67       CUDA Version: 10.1     |\n",
            "|-------------------------------+----------------------+----------------------+\n",
            "| GPU  Name        Persistence-M| Bus-Id        Disp.A | Volatile Uncorr. ECC |\n",
            "| Fan  Temp  Perf  Pwr:Usage/Cap|         Memory-Usage | GPU-Util  Compute M. |\n",
            "|                               |                      |               MIG M. |\n",
            "|===============================+======================+======================|\n",
            "|   0  Tesla T4            Off  | 00000000:00:04.0 Off |                    0 |\n",
            "| N/A   72C    P0    34W /  70W |   1383MiB / 15079MiB |      0%      Default |\n",
            "|                               |                      |                 ERR! |\n",
            "+-------------------------------+----------------------+----------------------+\n",
            "                                                                               \n",
            "+-----------------------------------------------------------------------------+\n",
            "| Processes:                                                                  |\n",
            "|  GPU   GI   CI        PID   Type   Process name                  GPU Memory |\n",
            "|        ID   ID                                                   Usage      |\n",
            "|=============================================================================|\n",
            "|  No running processes found                                                 |\n",
            "+-----------------------------------------------------------------------------+\n"
          ],
          "name": "stdout"
        }
      ]
    },
    {
      "cell_type": "code",
      "metadata": {
        "id": "-a8Rl8GEsyqt",
        "outputId": "1707cc31-ece2-407e-df60-a270795ac433",
        "colab": {
          "base_uri": "https://localhost:8080/",
          "height": 142
        }
      },
      "source": [
        "results = pd.DataFrame(history.history)\n",
        "results.tail(3)"
      ],
      "execution_count": null,
      "outputs": [
        {
          "output_type": "execute_result",
          "data": {
            "text/html": [
              "<div>\n",
              "<style scoped>\n",
              "    .dataframe tbody tr th:only-of-type {\n",
              "        vertical-align: middle;\n",
              "    }\n",
              "\n",
              "    .dataframe tbody tr th {\n",
              "        vertical-align: top;\n",
              "    }\n",
              "\n",
              "    .dataframe thead th {\n",
              "        text-align: right;\n",
              "    }\n",
              "</style>\n",
              "<table border=\"1\" class=\"dataframe\">\n",
              "  <thead>\n",
              "    <tr style=\"text-align: right;\">\n",
              "      <th></th>\n",
              "      <th>loss</th>\n",
              "      <th>accuracy</th>\n",
              "      <th>val_loss</th>\n",
              "      <th>val_accuracy</th>\n",
              "    </tr>\n",
              "  </thead>\n",
              "  <tbody>\n",
              "    <tr>\n",
              "      <th>27</th>\n",
              "      <td>0.952864</td>\n",
              "      <td>0.66762</td>\n",
              "      <td>1.444254</td>\n",
              "      <td>0.5187</td>\n",
              "    </tr>\n",
              "    <tr>\n",
              "      <th>28</th>\n",
              "      <td>0.942548</td>\n",
              "      <td>0.67206</td>\n",
              "      <td>1.470357</td>\n",
              "      <td>0.5093</td>\n",
              "    </tr>\n",
              "    <tr>\n",
              "      <th>29</th>\n",
              "      <td>0.941037</td>\n",
              "      <td>0.67172</td>\n",
              "      <td>1.481043</td>\n",
              "      <td>0.5151</td>\n",
              "    </tr>\n",
              "  </tbody>\n",
              "</table>\n",
              "</div>"
            ],
            "text/plain": [
              "        loss  accuracy  val_loss  val_accuracy\n",
              "27  0.952864   0.66762  1.444254        0.5187\n",
              "28  0.942548   0.67206  1.470357        0.5093\n",
              "29  0.941037   0.67172  1.481043        0.5151"
            ]
          },
          "metadata": {
            "tags": []
          },
          "execution_count": 18
        }
      ]
    },
    {
      "cell_type": "code",
      "metadata": {
        "id": "gnSxo59UtMhf",
        "outputId": "37a18a56-cc9d-4082-8c9b-af2ee8f9505f",
        "colab": {
          "base_uri": "https://localhost:8080/",
          "height": 799
        }
      },
      "source": [
        "from tensorflow.keras.applications import resnet, VGG16\n",
        "\n",
        "# 学習済みモデルVGG16をインスタンス化\n",
        "# VGG16 では画像サイズ (224, 224, 3) の画像で事前学習されている\n",
        "# include_top=False 事前学習済みの全結合層を除く(ImageNet では 1000 クラス分類ですが、今回は 10 クラス分類なので最終層に全結合層を自分の問題設定に合うように追加)\n",
        "# weights='imagenet' 事前学習済みの重みを引き継ぐ\n",
        "base_model = VGG16(input_shape=(224, 224, 3),\n",
        "                                      include_top=False, weights='imagenet')\n",
        "      \n",
        "base_model.summary()"
      ],
      "execution_count": 4,
      "outputs": [
        {
          "output_type": "stream",
          "text": [
            "Model: \"vgg16\"\n",
            "_________________________________________________________________\n",
            "Layer (type)                 Output Shape              Param #   \n",
            "=================================================================\n",
            "input_1 (InputLayer)         [(None, 224, 224, 3)]     0         \n",
            "_________________________________________________________________\n",
            "block1_conv1 (Conv2D)        (None, 224, 224, 64)      1792      \n",
            "_________________________________________________________________\n",
            "block1_conv2 (Conv2D)        (None, 224, 224, 64)      36928     \n",
            "_________________________________________________________________\n",
            "block1_pool (MaxPooling2D)   (None, 112, 112, 64)      0         \n",
            "_________________________________________________________________\n",
            "block2_conv1 (Conv2D)        (None, 112, 112, 128)     73856     \n",
            "_________________________________________________________________\n",
            "block2_conv2 (Conv2D)        (None, 112, 112, 128)     147584    \n",
            "_________________________________________________________________\n",
            "block2_pool (MaxPooling2D)   (None, 56, 56, 128)       0         \n",
            "_________________________________________________________________\n",
            "block3_conv1 (Conv2D)        (None, 56, 56, 256)       295168    \n",
            "_________________________________________________________________\n",
            "block3_conv2 (Conv2D)        (None, 56, 56, 256)       590080    \n",
            "_________________________________________________________________\n",
            "block3_conv3 (Conv2D)        (None, 56, 56, 256)       590080    \n",
            "_________________________________________________________________\n",
            "block3_pool (MaxPooling2D)   (None, 28, 28, 256)       0         \n",
            "_________________________________________________________________\n",
            "block4_conv1 (Conv2D)        (None, 28, 28, 512)       1180160   \n",
            "_________________________________________________________________\n",
            "block4_conv2 (Conv2D)        (None, 28, 28, 512)       2359808   \n",
            "_________________________________________________________________\n",
            "block4_conv3 (Conv2D)        (None, 28, 28, 512)       2359808   \n",
            "_________________________________________________________________\n",
            "block4_pool (MaxPooling2D)   (None, 14, 14, 512)       0         \n",
            "_________________________________________________________________\n",
            "block5_conv1 (Conv2D)        (None, 14, 14, 512)       2359808   \n",
            "_________________________________________________________________\n",
            "block5_conv2 (Conv2D)        (None, 14, 14, 512)       2359808   \n",
            "_________________________________________________________________\n",
            "block5_conv3 (Conv2D)        (None, 14, 14, 512)       2359808   \n",
            "_________________________________________________________________\n",
            "block5_pool (MaxPooling2D)   (None, 7, 7, 512)         0         \n",
            "=================================================================\n",
            "Total params: 14,714,688\n",
            "Trainable params: 14,714,688\n",
            "Non-trainable params: 0\n",
            "_________________________________________________________________\n"
          ],
          "name": "stdout"
        }
      ]
    },
    {
      "cell_type": "code",
      "metadata": {
        "id": "QpNwYSjoucC8"
      },
      "source": [
        "# データが多いので、ランダムにデータを取得する\n",
        "train_choice = np.random.randint(low=0, high=50000, size=5000)\n",
        "test_choice = np.random.randint(low=0, high=10000, size=2500)"
      ],
      "execution_count": 5,
      "outputs": []
    },
    {
      "cell_type": "code",
      "metadata": {
        "id": "6mzVZOTDwWjD"
      },
      "source": [
        "x_train = train[0][train_choice]\n",
        "x_test = test[0][test_choice]\n",
        "t_train = train[1][train_choice].astype('int32') \n",
        "t_test = test[1][test_choice].astype('int32') "
      ],
      "execution_count": 6,
      "outputs": []
    },
    {
      "cell_type": "code",
      "metadata": {
        "id": "OeqO37v5wHNF"
      },
      "source": [
        "#画像のサイズ(32, 32, 3)をVGG16の学習サイズ(224, 224, 3)に大きくする\n",
        "_train, _test = [], []\n",
        "for img in x_train:\n",
        "    _train.append(cv2.resize(src=img, dsize=(224, 224)))\n",
        "for img in x_test:    \n",
        "    _test.append(cv2.resize(src=img, dsize=(224, 224)))\n"
      ],
      "execution_count": 7,
      "outputs": []
    },
    {
      "cell_type": "code",
      "metadata": {
        "id": "i85tzyy8w0bQ",
        "outputId": "a9ded9ba-f054-4d3b-ace7-f0f3b11ad216",
        "colab": {
          "base_uri": "https://localhost:8080/",
          "height": 34
        }
      },
      "source": [
        "# リストから ndarray に変換し、正規化\n",
        "x_train = np.array(_train, dtype='float32') / 255.0\n",
        "x_test = np.array(_test, dtype='float32') / 255.0\n",
        "x_train.shape, x_test.shape"
      ],
      "execution_count": 8,
      "outputs": [
        {
          "output_type": "execute_result",
          "data": {
            "text/plain": [
              "((5000, 224, 224, 3), (2500, 224, 224, 3))"
            ]
          },
          "metadata": {
            "tags": []
          },
          "execution_count": 8
        }
      ]
    },
    {
      "cell_type": "code",
      "metadata": {
        "id": "0QcN1TNQxS1v"
      },
      "source": [
        "from tensorflow.keras import models,layers\n",
        "\n",
        "reset_seed(0)\n",
        "\n",
        "# 全結合層の追加\n",
        "# Flattenの代わりに、GlobalAveragePooling2Dを使う（学習すべきパラメータ数を減らすため）\n",
        "finetuned_model = models.Sequential([\n",
        "    base_model,\n",
        "    layers.GlobalAveragePooling2D(),\n",
        "    layers.Dense(512, activation='relu'),\n",
        "    layers.Dense(10, activation='softmax')\n",
        "])"
      ],
      "execution_count": 9,
      "outputs": []
    },
    {
      "cell_type": "code",
      "metadata": {
        "id": "48wqM_EjyPwS",
        "outputId": "495d0e49-194d-4710-ef8c-cb1fb07843d8",
        "colab": {
          "base_uri": "https://localhost:8080/",
          "height": 289
        }
      },
      "source": [
        "optimizer = tf.keras.optimizers.SGD(lr=0.01)\n",
        "finetuned_model.compile(optimizer=optimizer,\n",
        "                        loss='sparse_categorical_crossentropy',\n",
        "                        metrics=['accuracy'])\n",
        "finetuned_model.summary()"
      ],
      "execution_count": 10,
      "outputs": [
        {
          "output_type": "stream",
          "text": [
            "Model: \"sequential\"\n",
            "_________________________________________________________________\n",
            "Layer (type)                 Output Shape              Param #   \n",
            "=================================================================\n",
            "vgg16 (Functional)           (None, 7, 7, 512)         14714688  \n",
            "_________________________________________________________________\n",
            "global_average_pooling2d (Gl (None, 512)               0         \n",
            "_________________________________________________________________\n",
            "dense (Dense)                (None, 512)               262656    \n",
            "_________________________________________________________________\n",
            "dense_1 (Dense)              (None, 10)                5130      \n",
            "=================================================================\n",
            "Total params: 14,982,474\n",
            "Trainable params: 14,982,474\n",
            "Non-trainable params: 0\n",
            "_________________________________________________________________\n"
          ],
          "name": "stdout"
        }
      ]
    },
    {
      "cell_type": "code",
      "metadata": {
        "id": "60aiotQlzWKC",
        "outputId": "540a5441-440c-446c-839d-52e93a23993e",
        "colab": {
          "base_uri": "https://localhost:8080/",
          "height": 34
        }
      },
      "source": [
        "# 学習前の正解率(10%)\n",
        "loss, accuracy = finetuned_model.evaluate(x_test, t_test)"
      ],
      "execution_count": 11,
      "outputs": [
        {
          "output_type": "stream",
          "text": [
            "79/79 [==============================] - 9s 116ms/step - loss: 2.4383 - accuracy: 0.1008\n"
          ],
          "name": "stdout"
        }
      ]
    },
    {
      "cell_type": "code",
      "metadata": {
        "id": "bPWPSgE14Lm0",
        "outputId": "f38847e0-78fb-43af-8076-250912d1a4cd",
        "colab": {
          "base_uri": "https://localhost:8080/",
          "height": 34
        }
      },
      "source": [
        "print(f'loss : {loss}, acuracy : {accuracy}')"
      ],
      "execution_count": 12,
      "outputs": [
        {
          "output_type": "stream",
          "text": [
            "loss : 2.4382503032684326, acuracy : 0.10080000013113022\n"
          ],
          "name": "stdout"
        }
      ]
    },
    {
      "cell_type": "code",
      "metadata": {
        "id": "3pIuVu244UCV",
        "outputId": "e779e122-42cb-4a87-ca24-38fa0c6b2ffe",
        "colab": {
          "base_uri": "https://localhost:8080/",
          "height": 374
        }
      },
      "source": [
        "history = finetuned_model.fit(x_train, t_train, \n",
        "                    epochs=10, \n",
        "                    batch_size=32,\n",
        "                    validation_data=(x_test, t_test))"
      ],
      "execution_count": 13,
      "outputs": [
        {
          "output_type": "stream",
          "text": [
            "Epoch 1/10\n",
            "  2/157 [..............................] - ETA: 30s - loss: 2.3962 - accuracy: 0.0469WARNING:tensorflow:Callbacks method `on_train_batch_end` is slow compared to the batch time (batch time: 0.1182s vs `on_train_batch_end` time: 0.2699s). Check your callbacks.\n",
            "157/157 [==============================] - 75s 479ms/step - loss: 2.2088 - accuracy: 0.1820 - val_loss: 2.8492 - val_accuracy: 0.1568\n",
            "Epoch 2/10\n",
            "157/157 [==============================] - 80s 507ms/step - loss: 1.8073 - accuracy: 0.3498 - val_loss: 2.5662 - val_accuracy: 0.1700\n",
            "Epoch 3/10\n",
            "157/157 [==============================] - 79s 505ms/step - loss: 1.6276 - accuracy: 0.4216 - val_loss: 1.5222 - val_accuracy: 0.4448\n",
            "Epoch 4/10\n",
            "157/157 [==============================] - 79s 505ms/step - loss: 1.2044 - accuracy: 0.5794 - val_loss: 1.4089 - val_accuracy: 0.5036\n",
            "Epoch 5/10\n",
            "157/157 [==============================] - 80s 508ms/step - loss: 1.0880 - accuracy: 0.6290 - val_loss: 1.7224 - val_accuracy: 0.4820\n",
            "Epoch 6/10\n",
            "157/157 [==============================] - 80s 510ms/step - loss: 0.8895 - accuracy: 0.6904 - val_loss: 1.2624 - val_accuracy: 0.5916\n",
            "Epoch 7/10\n",
            "157/157 [==============================] - 80s 509ms/step - loss: 0.8031 - accuracy: 0.7206 - val_loss: 1.0549 - val_accuracy: 0.6620\n",
            "Epoch 8/10\n",
            "157/157 [==============================] - 80s 510ms/step - loss: 0.6136 - accuracy: 0.7900 - val_loss: 1.0292 - val_accuracy: 0.6392\n",
            "Epoch 9/10\n",
            "157/157 [==============================] - 80s 511ms/step - loss: 0.5111 - accuracy: 0.8258 - val_loss: 1.1121 - val_accuracy: 0.6264\n",
            "Epoch 10/10\n",
            "157/157 [==============================] - 80s 511ms/step - loss: 0.4388 - accuracy: 0.8570 - val_loss: 0.9768 - val_accuracy: 0.6516\n"
          ],
          "name": "stdout"
        }
      ]
    },
    {
      "cell_type": "code",
      "metadata": {
        "id": "1K-kjFyo7hLH",
        "outputId": "357a8946-9df6-4abd-c04d-315751548d7c",
        "colab": {
          "base_uri": "https://localhost:8080/",
          "height": 295
        }
      },
      "source": [
        "学習後の正解率85%\n",
        "results = pd.DataFrame(history.history)\n",
        "results[['accuracy', 'val_accuracy']].plot(title='accuracy')\n",
        "plt.xlabel('epochs');"
      ],
      "execution_count": 15,
      "outputs": [
        {
          "output_type": "display_data",
          "data": {
            "image/png": "[encoded data removed]",
            "text/plain": [
              "<Figure size 432x288 with 1 Axes>"
            ]
          },
          "metadata": {
            "tags": [],
            "needs_background": "light"
          }
        }
      ]
    }
  ]
}