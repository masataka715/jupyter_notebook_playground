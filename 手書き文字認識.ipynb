{
  "nbformat": 4,
  "nbformat_minor": 0,
  "metadata": {
    "colab": {
      "name": "手書き文字認識.ipynb",
      "provenance": [],
      "collapsed_sections": [],
      "authorship_tag": "ABX9TyNK8Skj53A4vwOH+jNWcIba",
      "include_colab_link": true
    },
    "kernelspec": {
      "name": "python3",
      "display_name": "Python 3"
    },
    "accelerator": "GPU"
  },
  "cells": [
    {
      "cell_type": "markdown",
      "metadata": {
        "id": "view-in-github",
        "colab_type": "text"
      },
      "source": [
        "<a href=\"https://colab.research.google.com/github/masataka715/jupyter_notebook_playground/blob/master/%E6%89%8B%E6%9B%B8%E3%81%8D%E6%96%87%E5%AD%97%E8%AA%8D%E8%AD%98.ipynb\" target=\"_parent\"><img src=\"https://colab.research.google.com/assets/colab-badge.svg\" alt=\"Open In Colab\"/></a>"
      ]
    },
    {
      "cell_type": "code",
      "metadata": {
        "id": "yH1n05ag1YSr"
      },
      "source": [
        "import numpy as np\n",
        "import pandas as pd\n",
        "import matplotlib.pyplot as plt\n",
        "\n",
        "import tensorflow as tf"
      ],
      "execution_count": null,
      "outputs": []
    },
    {
      "cell_type": "code",
      "metadata": {
        "id": "W4yFKXZ44yOE",
        "outputId": "12cd4078-95b7-489f-a8ef-baf5f83c85f4",
        "colab": {
          "base_uri": "https://localhost:8080/",
          "height": 544
        }
      },
      "source": [
        "# GPU が使用可能であることを確認\n",
        "from tensorflow.python.client import device_lib\n",
        "print(device_lib.list_local_devices())"
      ],
      "execution_count": null,
      "outputs": [
        {
          "output_type": "stream",
          "text": [
            "[name: \"/device:CPU:0\"\n",
            "device_type: \"CPU\"\n",
            "memory_limit: 268435456\n",
            "locality {\n",
            "}\n",
            "incarnation: 8883611154209447218\n",
            ", name: \"/device:XLA_CPU:0\"\n",
            "device_type: \"XLA_CPU\"\n",
            "memory_limit: 17179869184\n",
            "locality {\n",
            "}\n",
            "incarnation: 12623892355720314942\n",
            "physical_device_desc: \"device: XLA_CPU device\"\n",
            ", name: \"/device:XLA_GPU:0\"\n",
            "device_type: \"XLA_GPU\"\n",
            "memory_limit: 17179869184\n",
            "locality {\n",
            "}\n",
            "incarnation: 4770010552395905779\n",
            "physical_device_desc: \"device: XLA_GPU device\"\n",
            ", name: \"/device:GPU:0\"\n",
            "device_type: \"GPU\"\n",
            "memory_limit: 14640891840\n",
            "locality {\n",
            "  bus_id: 1\n",
            "  links {\n",
            "  }\n",
            "}\n",
            "incarnation: 13756937997927601261\n",
            "physical_device_desc: \"device: 0, name: Tesla T4, pci bus id: 0000:00:04.0, compute capability: 7.5\"\n",
            "]\n"
          ],
          "name": "stdout"
        }
      ]
    },
    {
      "cell_type": "code",
      "metadata": {
        "id": "Bgg5V-CY5hGT",
        "outputId": "07fa6e95-35bb-4b67-b142-a3e83777337f",
        "colab": {
          "base_uri": "https://localhost:8080/",
          "height": 265
        }
      },
      "source": [
        "from tensorflow.keras.datasets import mnist\n",
        "# データセットの取得\n",
        "train, test = mnist.load_data()\n",
        "img = train[0][0]\n",
        "plt.imshow(img, cmap='gray');"
      ],
      "execution_count": null,
      "outputs": [
        {
          "output_type": "display_data",
          "data": {
            "image/png": "[encoded data removed]",
            "text/plain": [
              "<Figure size 432x288 with 1 Axes>"
            ]
          },
          "metadata": {
            "tags": [],
            "needs_background": "light"
          }
        }
      ]
    },
    {
      "cell_type": "code",
      "metadata": {
        "id": "ljZ3ZdfD6aYE"
      },
      "source": [
        "# 画像データの形を (height, width) から (height, width, channel) (TensorFlow で使用できる形式)へと変換\n",
        "x_train = train[0].reshape(60000, 28, 28, 1) / 255\n",
        "x_test = test[0].reshape(10000, 28, 28, 1) / 255\n",
        "# 目標値\n",
        "t_train = train[1]\n",
        "t_test = test[1]\n",
        "# 入力値は float32 のデータ型に、目標値は int32 のデータ型に変換\n",
        "x_train, x_test = x_train.astype('float32'), x_test.astype('float32')\n",
        "t_train, t_test = t_train.astype('int32'), t_test.astype('int32')"
      ],
      "execution_count": null,
      "outputs": []
    },
    {
      "cell_type": "code",
      "metadata": {
        "id": "GXK9-DdE9d74",
        "outputId": "58d5db38-faf0-4685-8738-d893e8486880",
        "colab": {
          "base_uri": "https://localhost:8080/",
          "height": 34
        }
      },
      "source": [
        "x_train.shape"
      ],
      "execution_count": null,
      "outputs": [
        {
          "output_type": "execute_result",
          "data": {
            "text/plain": [
              "(60000, 28, 28, 1)"
            ]
          },
          "metadata": {
            "tags": []
          },
          "execution_count": 21
        }
      ]
    },
    {
      "cell_type": "code",
      "metadata": {
        "id": "nxFW_IU97-eq"
      },
      "source": [
        "# ここからモデルの定義\n",
        "import os, random\n",
        "\n",
        "def reset_seed(seed=0):\n",
        "    os.environ['PYTHONHASHSEED'] = '0'\n",
        "    random.seed(seed)\n",
        "    np.random.seed(seed)\n",
        "    tf.random.set_seed(seed)"
      ],
      "execution_count": null,
      "outputs": []
    },
    {
      "cell_type": "code",
      "metadata": {
        "id": "TTeuotkM9GOA",
        "outputId": "ec647a8a-726e-4906-ed62-c327faf87db4",
        "colab": {
          "base_uri": "https://localhost:8080/",
          "height": 323
        }
      },
      "source": [
        "from tensorflow.keras import models,layers\n",
        "\n",
        "# シードの固定\n",
        "reset_seed(0)\n",
        "\n",
        "# モデルの構築\n",
        "model = models.Sequential([\n",
        "    # 特徴量抽出\n",
        "    layers.Conv2D(filters=3, kernel_size=(3, 3), activation='relu', input_shape=(28, 28, 1)),\n",
        "    layers.MaxPool2D(pool_size=(2, 2)),\n",
        "    # ベクトル化\n",
        "    layers.Flatten(),\n",
        "    # 識別\n",
        "    layers.Dense(100, activation='relu'),\n",
        "    layers.Dense(10, activation='softmax')\n",
        "])\n",
        "model.summary()"
      ],
      "execution_count": null,
      "outputs": [
        {
          "output_type": "stream",
          "text": [
            "Model: \"sequential\"\n",
            "_________________________________________________________________\n",
            "Layer (type)                 Output Shape              Param #   \n",
            "=================================================================\n",
            "conv2d (Conv2D)              (None, 26, 26, 3)         30        \n",
            "_________________________________________________________________\n",
            "max_pooling2d (MaxPooling2D) (None, 13, 13, 3)         0         \n",
            "_________________________________________________________________\n",
            "flatten (Flatten)            (None, 507)               0         \n",
            "_________________________________________________________________\n",
            "dense (Dense)                (None, 100)               50800     \n",
            "_________________________________________________________________\n",
            "dense_1 (Dense)              (None, 10)                1010      \n",
            "=================================================================\n",
            "Total params: 51,840\n",
            "Trainable params: 51,840\n",
            "Non-trainable params: 0\n",
            "_________________________________________________________________\n"
          ],
          "name": "stdout"
        }
      ]
    },
    {
      "cell_type": "code",
      "metadata": {
        "id": "vkCc3nqL-2m8",
        "outputId": "7fb268b3-f083-48a6-cee7-56a0032af32d",
        "colab": {
          "base_uri": "https://localhost:8080/",
          "height": 564
        }
      },
      "source": [
        "from tensorflow.keras.utils import plot_model\n",
        "plot_model(model)"
      ],
      "execution_count": null,
      "outputs": [
        {
          "output_type": "execute_result",
          "data": {
            "image/png": "[encoded data removed]",
            "text/plain": [
              "<IPython.core.display.Image object>"
            ]
          },
          "metadata": {
            "tags": []
          },
          "execution_count": 23
        }
      ]
    },
    {
      "cell_type": "code",
      "metadata": {
        "id": "Z_amCr3o-7NV"
      },
      "source": [
        "optimizer = tf.keras.optimizers.Adam(lr=0.01)\n",
        "# モデルのコンパイル\n",
        "model.compile(optimizer=optimizer, \n",
        "              loss='sparse_categorical_crossentropy', \n",
        "              metrics=['accuracy'])"
      ],
      "execution_count": null,
      "outputs": []
    },
    {
      "cell_type": "code",
      "metadata": {
        "id": "nYj_dyBM_Fqc",
        "outputId": "2aa5c392-8fc0-4d5b-e9ba-e5e675e7ccac",
        "colab": {
          "base_uri": "https://localhost:8080/",
          "height": 1000
        }
      },
      "source": [
        "# 学習の実行\n",
        "# fixメソッドでモデルに学習させる（出力と教師データの差が小さくなるように各ニューロンの重みを更新し、モデルの予測精度を向上させる）\n",
        "# モデルを訓練することで、重みが自動的にチューニングされる\n",
        "# verbose:１を指定した場合は学習の進捗度合いを出力\n",
        "# epochs:同じデータセットで行う学習の回数\n",
        "batch_size = 4096\n",
        "epochs = 30\n",
        "history = model.fit(x_train, t_train, \n",
        "                batch_size=batch_size, \n",
        "                epochs=epochs, verbose=1, \n",
        "                validation_data=(x_test, t_test))"
      ],
      "execution_count": null,
      "outputs": [
        {
          "output_type": "stream",
          "text": [
            "Epoch 1/30\n",
            "15/15 [==============================] - 0s 29ms/step - loss: 0.8988 - accuracy: 0.7390 - val_loss: 0.3954 - val_accuracy: 0.8911\n",
            "Epoch 2/30\n",
            "15/15 [==============================] - 0s 15ms/step - loss: 0.3349 - accuracy: 0.9030 - val_loss: 0.2814 - val_accuracy: 0.9166\n",
            "Epoch 3/30\n",
            "15/15 [==============================] - 0s 15ms/step - loss: 0.2482 - accuracy: 0.9260 - val_loss: 0.2085 - val_accuracy: 0.9362\n",
            "Epoch 4/30\n",
            "15/15 [==============================] - 0s 15ms/step - loss: 0.1983 - accuracy: 0.9413 - val_loss: 0.1793 - val_accuracy: 0.9431\n",
            "Epoch 5/30\n",
            "15/15 [==============================] - 0s 15ms/step - loss: 0.1636 - accuracy: 0.9510 - val_loss: 0.1538 - val_accuracy: 0.9532\n",
            "Epoch 6/30\n",
            "15/15 [==============================] - 0s 15ms/step - loss: 0.1396 - accuracy: 0.9578 - val_loss: 0.1283 - val_accuracy: 0.9610\n",
            "Epoch 7/30\n",
            "15/15 [==============================] - 0s 15ms/step - loss: 0.1211 - accuracy: 0.9635 - val_loss: 0.1179 - val_accuracy: 0.9649\n",
            "Epoch 8/30\n",
            "15/15 [==============================] - 0s 16ms/step - loss: 0.1066 - accuracy: 0.9679 - val_loss: 0.1080 - val_accuracy: 0.9663\n",
            "Epoch 9/30\n",
            "15/15 [==============================] - 0s 15ms/step - loss: 0.0985 - accuracy: 0.9698 - val_loss: 0.1011 - val_accuracy: 0.9695\n",
            "Epoch 10/30\n",
            "15/15 [==============================] - 0s 16ms/step - loss: 0.0863 - accuracy: 0.9736 - val_loss: 0.0995 - val_accuracy: 0.9697\n",
            "Epoch 11/30\n",
            "15/15 [==============================] - 0s 15ms/step - loss: 0.0792 - accuracy: 0.9757 - val_loss: 0.0895 - val_accuracy: 0.9722\n",
            "Epoch 12/30\n",
            "15/15 [==============================] - 0s 15ms/step - loss: 0.0740 - accuracy: 0.9773 - val_loss: 0.0872 - val_accuracy: 0.9724\n",
            "Epoch 13/30\n",
            "15/15 [==============================] - 0s 14ms/step - loss: 0.0669 - accuracy: 0.9799 - val_loss: 0.0840 - val_accuracy: 0.9738\n",
            "Epoch 14/30\n",
            "15/15 [==============================] - 0s 14ms/step - loss: 0.0624 - accuracy: 0.9812 - val_loss: 0.0807 - val_accuracy: 0.9745\n",
            "Epoch 15/30\n",
            "15/15 [==============================] - 0s 15ms/step - loss: 0.0558 - accuracy: 0.9834 - val_loss: 0.0757 - val_accuracy: 0.9769\n",
            "Epoch 16/30\n",
            "15/15 [==============================] - 0s 15ms/step - loss: 0.0521 - accuracy: 0.9840 - val_loss: 0.0783 - val_accuracy: 0.9745\n",
            "Epoch 17/30\n",
            "15/15 [==============================] - 0s 15ms/step - loss: 0.0490 - accuracy: 0.9850 - val_loss: 0.0723 - val_accuracy: 0.9771\n",
            "Epoch 18/30\n",
            "15/15 [==============================] - 0s 15ms/step - loss: 0.0471 - accuracy: 0.9855 - val_loss: 0.0749 - val_accuracy: 0.9765\n",
            "Epoch 19/30\n",
            "15/15 [==============================] - 0s 15ms/step - loss: 0.0478 - accuracy: 0.9848 - val_loss: 0.0784 - val_accuracy: 0.9758\n",
            "Epoch 20/30\n",
            "15/15 [==============================] - 0s 15ms/step - loss: 0.0421 - accuracy: 0.9869 - val_loss: 0.0703 - val_accuracy: 0.9776\n",
            "Epoch 21/30\n",
            "15/15 [==============================] - 0s 15ms/step - loss: 0.0372 - accuracy: 0.9886 - val_loss: 0.0707 - val_accuracy: 0.9774\n",
            "Epoch 22/30\n",
            "15/15 [==============================] - 0s 15ms/step - loss: 0.0357 - accuracy: 0.9893 - val_loss: 0.0691 - val_accuracy: 0.9787\n",
            "Epoch 23/30\n",
            "15/15 [==============================] - 0s 15ms/step - loss: 0.0312 - accuracy: 0.9906 - val_loss: 0.0688 - val_accuracy: 0.9784\n",
            "Epoch 24/30\n",
            "15/15 [==============================] - 0s 14ms/step - loss: 0.0317 - accuracy: 0.9902 - val_loss: 0.0708 - val_accuracy: 0.9791\n",
            "Epoch 25/30\n",
            "15/15 [==============================] - 0s 14ms/step - loss: 0.0275 - accuracy: 0.9917 - val_loss: 0.0669 - val_accuracy: 0.9793\n",
            "Epoch 26/30\n",
            "15/15 [==============================] - 0s 15ms/step - loss: 0.0266 - accuracy: 0.9919 - val_loss: 0.0738 - val_accuracy: 0.9780\n",
            "Epoch 27/30\n",
            "15/15 [==============================] - 0s 15ms/step - loss: 0.0268 - accuracy: 0.9915 - val_loss: 0.0678 - val_accuracy: 0.9807\n",
            "Epoch 28/30\n",
            "15/15 [==============================] - 0s 15ms/step - loss: 0.0233 - accuracy: 0.9928 - val_loss: 0.0708 - val_accuracy: 0.9790\n",
            "Epoch 29/30\n",
            "15/15 [==============================] - 0s 15ms/step - loss: 0.0235 - accuracy: 0.9926 - val_loss: 0.0751 - val_accuracy: 0.9785\n",
            "Epoch 30/30\n",
            "15/15 [==============================] - 0s 15ms/step - loss: 0.0241 - accuracy: 0.9922 - val_loss: 0.0690 - val_accuracy: 0.9809\n"
          ],
          "name": "stdout"
        }
      ]
    },
    {
      "cell_type": "code",
      "metadata": {
        "id": "WdpvKbZa_eLr",
        "outputId": "f2e45064-6c6b-4a8f-d9a6-fe1efb0b9253",
        "colab": {
          "base_uri": "https://localhost:8080/",
          "height": 357
        }
      },
      "source": [
        "!nvidia-smi\n",
        "# Memory-Usage 1173MiB / 15079MiB →　メモリを可能な限り使用できるようにバッチサイズを調整する"
      ],
      "execution_count": null,
      "outputs": [
        {
          "output_type": "stream",
          "text": [
            "Wed Oct 28 02:16:23 2020       \n",
            "+-----------------------------------------------------------------------------+\n",
            "| NVIDIA-SMI 455.23.05    Driver Version: 418.67       CUDA Version: 10.1     |\n",
            "|-------------------------------+----------------------+----------------------+\n",
            "| GPU  Name        Persistence-M| Bus-Id        Disp.A | Volatile Uncorr. ECC |\n",
            "| Fan  Temp  Perf  Pwr:Usage/Cap|         Memory-Usage | GPU-Util  Compute M. |\n",
            "|                               |                      |               MIG M. |\n",
            "|===============================+======================+======================|\n",
            "|   0  Tesla T4            Off  | 00000000:00:04.0 Off |                    0 |\n",
            "| N/A   73C    P0    33W /  70W |   1173MiB / 15079MiB |      0%      Default |\n",
            "|                               |                      |                 ERR! |\n",
            "+-------------------------------+----------------------+----------------------+\n",
            "                                                                               \n",
            "+-----------------------------------------------------------------------------+\n",
            "| Processes:                                                                  |\n",
            "|  GPU   GI   CI        PID   Type   Process name                  GPU Memory |\n",
            "|        ID   ID                                                   Usage      |\n",
            "|=============================================================================|\n",
            "|  No running processes found                                                 |\n",
            "+-----------------------------------------------------------------------------+\n"
          ],
          "name": "stdout"
        }
      ]
    },
    {
      "cell_type": "code",
      "metadata": {
        "id": "Jf3enFnM__qc",
        "outputId": "0dce9283-bd19-442a-ff8d-ece5d03f7983",
        "colab": {
          "base_uri": "https://localhost:8080/",
          "height": 142
        }
      },
      "source": [
        "results = pd.DataFrame(history.history)\n",
        "results.tail(3)"
      ],
      "execution_count": null,
      "outputs": [
        {
          "output_type": "execute_result",
          "data": {
            "text/html": [
              "<div>\n",
              "<style scoped>\n",
              "    .dataframe tbody tr th:only-of-type {\n",
              "        vertical-align: middle;\n",
              "    }\n",
              "\n",
              "    .dataframe tbody tr th {\n",
              "        vertical-align: top;\n",
              "    }\n",
              "\n",
              "    .dataframe thead th {\n",
              "        text-align: right;\n",
              "    }\n",
              "</style>\n",
              "<table border=\"1\" class=\"dataframe\">\n",
              "  <thead>\n",
              "    <tr style=\"text-align: right;\">\n",
              "      <th></th>\n",
              "      <th>loss</th>\n",
              "      <th>accuracy</th>\n",
              "      <th>val_loss</th>\n",
              "      <th>val_accuracy</th>\n",
              "    </tr>\n",
              "  </thead>\n",
              "  <tbody>\n",
              "    <tr>\n",
              "      <th>27</th>\n",
              "      <td>0.023280</td>\n",
              "      <td>0.992767</td>\n",
              "      <td>0.070760</td>\n",
              "      <td>0.9790</td>\n",
              "    </tr>\n",
              "    <tr>\n",
              "      <th>28</th>\n",
              "      <td>0.023497</td>\n",
              "      <td>0.992633</td>\n",
              "      <td>0.075062</td>\n",
              "      <td>0.9785</td>\n",
              "    </tr>\n",
              "    <tr>\n",
              "      <th>29</th>\n",
              "      <td>0.024089</td>\n",
              "      <td>0.992200</td>\n",
              "      <td>0.069050</td>\n",
              "      <td>0.9809</td>\n",
              "    </tr>\n",
              "  </tbody>\n",
              "</table>\n",
              "</div>"
            ],
            "text/plain": [
              "        loss  accuracy  val_loss  val_accuracy\n",
              "27  0.023280  0.992767  0.070760        0.9790\n",
              "28  0.023497  0.992633  0.075062        0.9785\n",
              "29  0.024089  0.992200  0.069050        0.9809"
            ]
          },
          "metadata": {
            "tags": []
          },
          "execution_count": 27
        }
      ]
    },
    {
      "cell_type": "code",
      "metadata": {
        "id": "Z6RHMd3-AJdv",
        "outputId": "ec39228b-acc8-48c6-e338-ee335271a592",
        "colab": {
          "base_uri": "https://localhost:8080/",
          "height": 295
        }
      },
      "source": [
        "results[['accuracy', 'val_accuracy']].plot(title='accuracy')\n",
        "plt.xlabel('epochs');"
      ],
      "execution_count": null,
      "outputs": [
        {
          "output_type": "display_data",
          "data": {
            "image/png": "[encoded data removed]",
            "text/plain": [
              "<Figure size 432x288 with 1 Axes>"
            ]
          },
          "metadata": {
            "tags": [],
            "needs_background": "light"
          }
        }
      ]
    }
  ]
}