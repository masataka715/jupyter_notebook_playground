{
 "cells": [
  {
   "cell_type": "markdown",
   "metadata": {},
   "source": [
    "# データの読み込み"
   ]
  },
  {
   "cell_type": "code",
   "execution_count": 8,
   "metadata": {},
   "outputs": [],
   "source": [
    "import pandas as pd"
   ]
  },
  {
   "cell_type": "code",
   "execution_count": 9,
   "metadata": {},
   "outputs": [
    {
     "data": {
      "text/html": [
       "<div>\n",
       "<style scoped>\n",
       "    .dataframe tbody tr th:only-of-type {\n",
       "        vertical-align: middle;\n",
       "    }\n",
       "\n",
       "    .dataframe tbody tr th {\n",
       "        vertical-align: top;\n",
       "    }\n",
       "\n",
       "    .dataframe thead th {\n",
       "        text-align: right;\n",
       "    }\n",
       "</style>\n",
       "<table border=\"1\" class=\"dataframe\">\n",
       "  <thead>\n",
       "    <tr style=\"text-align: right;\">\n",
       "      <th></th>\n",
       "      <th>Class</th>\n",
       "      <th>Alcohol</th>\n",
       "      <th>Ash</th>\n",
       "      <th>Alcalinity of ash</th>\n",
       "      <th>Magnesium</th>\n",
       "      <th>Total phenols</th>\n",
       "      <th>Flavanoids</th>\n",
       "      <th>Nonflavanoid phenols</th>\n",
       "      <th>Color intensity</th>\n",
       "      <th>Hue</th>\n",
       "      <th>Proline</th>\n",
       "    </tr>\n",
       "  </thead>\n",
       "  <tbody>\n",
       "    <tr>\n",
       "      <td>0</td>\n",
       "      <td>1</td>\n",
       "      <td>14.23</td>\n",
       "      <td>2.43</td>\n",
       "      <td>15.6</td>\n",
       "      <td>127</td>\n",
       "      <td>2.80</td>\n",
       "      <td>3.06</td>\n",
       "      <td>0.28</td>\n",
       "      <td>5.64</td>\n",
       "      <td>1.04</td>\n",
       "      <td>1065</td>\n",
       "    </tr>\n",
       "    <tr>\n",
       "      <td>1</td>\n",
       "      <td>1</td>\n",
       "      <td>13.20</td>\n",
       "      <td>2.14</td>\n",
       "      <td>11.2</td>\n",
       "      <td>100</td>\n",
       "      <td>2.65</td>\n",
       "      <td>2.76</td>\n",
       "      <td>0.26</td>\n",
       "      <td>4.38</td>\n",
       "      <td>1.05</td>\n",
       "      <td>1050</td>\n",
       "    </tr>\n",
       "    <tr>\n",
       "      <td>2</td>\n",
       "      <td>1</td>\n",
       "      <td>13.16</td>\n",
       "      <td>2.67</td>\n",
       "      <td>18.6</td>\n",
       "      <td>101</td>\n",
       "      <td>2.80</td>\n",
       "      <td>3.24</td>\n",
       "      <td>0.30</td>\n",
       "      <td>5.68</td>\n",
       "      <td>1.03</td>\n",
       "      <td>1185</td>\n",
       "    </tr>\n",
       "    <tr>\n",
       "      <td>3</td>\n",
       "      <td>1</td>\n",
       "      <td>14.37</td>\n",
       "      <td>2.50</td>\n",
       "      <td>16.8</td>\n",
       "      <td>113</td>\n",
       "      <td>3.85</td>\n",
       "      <td>3.49</td>\n",
       "      <td>0.24</td>\n",
       "      <td>7.80</td>\n",
       "      <td>0.86</td>\n",
       "      <td>1480</td>\n",
       "    </tr>\n",
       "    <tr>\n",
       "      <td>4</td>\n",
       "      <td>1</td>\n",
       "      <td>13.24</td>\n",
       "      <td>2.87</td>\n",
       "      <td>21.0</td>\n",
       "      <td>118</td>\n",
       "      <td>2.80</td>\n",
       "      <td>2.69</td>\n",
       "      <td>0.39</td>\n",
       "      <td>4.32</td>\n",
       "      <td>1.04</td>\n",
       "      <td>735</td>\n",
       "    </tr>\n",
       "    <tr>\n",
       "      <td>...</td>\n",
       "      <td>...</td>\n",
       "      <td>...</td>\n",
       "      <td>...</td>\n",
       "      <td>...</td>\n",
       "      <td>...</td>\n",
       "      <td>...</td>\n",
       "      <td>...</td>\n",
       "      <td>...</td>\n",
       "      <td>...</td>\n",
       "      <td>...</td>\n",
       "      <td>...</td>\n",
       "    </tr>\n",
       "    <tr>\n",
       "      <td>173</td>\n",
       "      <td>3</td>\n",
       "      <td>13.71</td>\n",
       "      <td>2.45</td>\n",
       "      <td>20.5</td>\n",
       "      <td>95</td>\n",
       "      <td>1.68</td>\n",
       "      <td>0.61</td>\n",
       "      <td>0.52</td>\n",
       "      <td>7.70</td>\n",
       "      <td>0.64</td>\n",
       "      <td>740</td>\n",
       "    </tr>\n",
       "    <tr>\n",
       "      <td>174</td>\n",
       "      <td>3</td>\n",
       "      <td>13.40</td>\n",
       "      <td>2.48</td>\n",
       "      <td>23.0</td>\n",
       "      <td>102</td>\n",
       "      <td>1.80</td>\n",
       "      <td>0.75</td>\n",
       "      <td>0.43</td>\n",
       "      <td>7.30</td>\n",
       "      <td>0.70</td>\n",
       "      <td>750</td>\n",
       "    </tr>\n",
       "    <tr>\n",
       "      <td>175</td>\n",
       "      <td>3</td>\n",
       "      <td>13.27</td>\n",
       "      <td>2.26</td>\n",
       "      <td>20.0</td>\n",
       "      <td>120</td>\n",
       "      <td>1.59</td>\n",
       "      <td>0.69</td>\n",
       "      <td>0.43</td>\n",
       "      <td>10.20</td>\n",
       "      <td>0.59</td>\n",
       "      <td>835</td>\n",
       "    </tr>\n",
       "    <tr>\n",
       "      <td>176</td>\n",
       "      <td>3</td>\n",
       "      <td>13.17</td>\n",
       "      <td>2.37</td>\n",
       "      <td>20.0</td>\n",
       "      <td>120</td>\n",
       "      <td>1.65</td>\n",
       "      <td>0.68</td>\n",
       "      <td>0.53</td>\n",
       "      <td>9.30</td>\n",
       "      <td>0.60</td>\n",
       "      <td>840</td>\n",
       "    </tr>\n",
       "    <tr>\n",
       "      <td>177</td>\n",
       "      <td>3</td>\n",
       "      <td>14.13</td>\n",
       "      <td>2.74</td>\n",
       "      <td>24.5</td>\n",
       "      <td>96</td>\n",
       "      <td>2.05</td>\n",
       "      <td>0.76</td>\n",
       "      <td>0.56</td>\n",
       "      <td>9.20</td>\n",
       "      <td>0.61</td>\n",
       "      <td>560</td>\n",
       "    </tr>\n",
       "  </tbody>\n",
       "</table>\n",
       "<p>178 rows × 11 columns</p>\n",
       "</div>"
      ],
      "text/plain": [
       "     Class  Alcohol   Ash  Alcalinity of ash  Magnesium  Total phenols  \\\n",
       "0        1    14.23  2.43               15.6        127           2.80   \n",
       "1        1    13.20  2.14               11.2        100           2.65   \n",
       "2        1    13.16  2.67               18.6        101           2.80   \n",
       "3        1    14.37  2.50               16.8        113           3.85   \n",
       "4        1    13.24  2.87               21.0        118           2.80   \n",
       "..     ...      ...   ...                ...        ...            ...   \n",
       "173      3    13.71  2.45               20.5         95           1.68   \n",
       "174      3    13.40  2.48               23.0        102           1.80   \n",
       "175      3    13.27  2.26               20.0        120           1.59   \n",
       "176      3    13.17  2.37               20.0        120           1.65   \n",
       "177      3    14.13  2.74               24.5         96           2.05   \n",
       "\n",
       "     Flavanoids  Nonflavanoid phenols  Color intensity   Hue  Proline  \n",
       "0          3.06                  0.28             5.64  1.04     1065  \n",
       "1          2.76                  0.26             4.38  1.05     1050  \n",
       "2          3.24                  0.30             5.68  1.03     1185  \n",
       "3          3.49                  0.24             7.80  0.86     1480  \n",
       "4          2.69                  0.39             4.32  1.04      735  \n",
       "..          ...                   ...              ...   ...      ...  \n",
       "173        0.61                  0.52             7.70  0.64      740  \n",
       "174        0.75                  0.43             7.30  0.70      750  \n",
       "175        0.69                  0.43            10.20  0.59      835  \n",
       "176        0.68                  0.53             9.30  0.60      840  \n",
       "177        0.76                  0.56             9.20  0.61      560  \n",
       "\n",
       "[178 rows x 11 columns]"
      ]
     },
     "execution_count": 9,
     "metadata": {},
     "output_type": "execute_result"
    }
   ],
   "source": [
    "df = pd.read_csv('wine-class.csv')\n",
    "df"
   ]
  },
  {
   "cell_type": "code",
   "execution_count": 10,
   "metadata": {
    "scrolled": true
   },
   "outputs": [
    {
     "data": {
      "text/plain": [
       "<matplotlib.axes._subplots.AxesSubplot at 0x125a0db10>"
      ]
     },
     "execution_count": 10,
     "metadata": {},
     "output_type": "execute_result"
    }
   ],
   "source": [
    "import seaborn as sns\n",
    "sns.distplot(df['Alcohol'])"
   ]
  },
  {
   "cell_type": "code",
   "execution_count": 11,
   "metadata": {},
   "outputs": [
    {
     "data": {
      "text/html": [
       "<div>\n",
       "<style scoped>\n",
       "    .dataframe tbody tr th:only-of-type {\n",
       "        vertical-align: middle;\n",
       "    }\n",
       "\n",
       "    .dataframe tbody tr th {\n",
       "        vertical-align: top;\n",
       "    }\n",
       "\n",
       "    .dataframe thead th {\n",
       "        text-align: right;\n",
       "    }\n",
       "</style>\n",
       "<table border=\"1\" class=\"dataframe\">\n",
       "  <thead>\n",
       "    <tr style=\"text-align: right;\">\n",
       "      <th></th>\n",
       "      <th>Class</th>\n",
       "      <th>Alcohol</th>\n",
       "      <th>Ash</th>\n",
       "      <th>Alcalinity of ash</th>\n",
       "      <th>Magnesium</th>\n",
       "      <th>Total phenols</th>\n",
       "      <th>Flavanoids</th>\n",
       "      <th>Nonflavanoid phenols</th>\n",
       "      <th>Color intensity</th>\n",
       "      <th>Hue</th>\n",
       "      <th>Proline</th>\n",
       "    </tr>\n",
       "  </thead>\n",
       "  <tbody>\n",
       "    <tr>\n",
       "      <td>Class</td>\n",
       "      <td>1.000000</td>\n",
       "      <td>-0.328222</td>\n",
       "      <td>-0.049643</td>\n",
       "      <td>0.517859</td>\n",
       "      <td>-0.209179</td>\n",
       "      <td>-0.719163</td>\n",
       "      <td>-0.847498</td>\n",
       "      <td>0.489109</td>\n",
       "      <td>0.265668</td>\n",
       "      <td>-0.617369</td>\n",
       "      <td>-0.633717</td>\n",
       "    </tr>\n",
       "    <tr>\n",
       "      <td>Alcohol</td>\n",
       "      <td>-0.328222</td>\n",
       "      <td>1.000000</td>\n",
       "      <td>0.211545</td>\n",
       "      <td>-0.310235</td>\n",
       "      <td>0.270798</td>\n",
       "      <td>0.289101</td>\n",
       "      <td>0.236815</td>\n",
       "      <td>-0.155929</td>\n",
       "      <td>0.546364</td>\n",
       "      <td>-0.071747</td>\n",
       "      <td>0.643720</td>\n",
       "    </tr>\n",
       "    <tr>\n",
       "      <td>Ash</td>\n",
       "      <td>-0.049643</td>\n",
       "      <td>0.211545</td>\n",
       "      <td>1.000000</td>\n",
       "      <td>0.443367</td>\n",
       "      <td>0.286587</td>\n",
       "      <td>0.128980</td>\n",
       "      <td>0.115077</td>\n",
       "      <td>0.186230</td>\n",
       "      <td>0.258887</td>\n",
       "      <td>-0.074667</td>\n",
       "      <td>0.223626</td>\n",
       "    </tr>\n",
       "    <tr>\n",
       "      <td>Alcalinity of ash</td>\n",
       "      <td>0.517859</td>\n",
       "      <td>-0.310235</td>\n",
       "      <td>0.443367</td>\n",
       "      <td>1.000000</td>\n",
       "      <td>-0.083333</td>\n",
       "      <td>-0.321113</td>\n",
       "      <td>-0.351370</td>\n",
       "      <td>0.361922</td>\n",
       "      <td>0.018732</td>\n",
       "      <td>-0.273955</td>\n",
       "      <td>-0.440597</td>\n",
       "    </tr>\n",
       "    <tr>\n",
       "      <td>Magnesium</td>\n",
       "      <td>-0.209179</td>\n",
       "      <td>0.270798</td>\n",
       "      <td>0.286587</td>\n",
       "      <td>-0.083333</td>\n",
       "      <td>1.000000</td>\n",
       "      <td>0.214401</td>\n",
       "      <td>0.195784</td>\n",
       "      <td>-0.256294</td>\n",
       "      <td>0.199950</td>\n",
       "      <td>0.055398</td>\n",
       "      <td>0.393351</td>\n",
       "    </tr>\n",
       "    <tr>\n",
       "      <td>Total phenols</td>\n",
       "      <td>-0.719163</td>\n",
       "      <td>0.289101</td>\n",
       "      <td>0.128980</td>\n",
       "      <td>-0.321113</td>\n",
       "      <td>0.214401</td>\n",
       "      <td>1.000000</td>\n",
       "      <td>0.864564</td>\n",
       "      <td>-0.449935</td>\n",
       "      <td>-0.055136</td>\n",
       "      <td>0.433681</td>\n",
       "      <td>0.498115</td>\n",
       "    </tr>\n",
       "    <tr>\n",
       "      <td>Flavanoids</td>\n",
       "      <td>-0.847498</td>\n",
       "      <td>0.236815</td>\n",
       "      <td>0.115077</td>\n",
       "      <td>-0.351370</td>\n",
       "      <td>0.195784</td>\n",
       "      <td>0.864564</td>\n",
       "      <td>1.000000</td>\n",
       "      <td>-0.537900</td>\n",
       "      <td>-0.172379</td>\n",
       "      <td>0.543479</td>\n",
       "      <td>0.494193</td>\n",
       "    </tr>\n",
       "    <tr>\n",
       "      <td>Nonflavanoid phenols</td>\n",
       "      <td>0.489109</td>\n",
       "      <td>-0.155929</td>\n",
       "      <td>0.186230</td>\n",
       "      <td>0.361922</td>\n",
       "      <td>-0.256294</td>\n",
       "      <td>-0.449935</td>\n",
       "      <td>-0.537900</td>\n",
       "      <td>1.000000</td>\n",
       "      <td>0.139057</td>\n",
       "      <td>-0.262640</td>\n",
       "      <td>-0.311385</td>\n",
       "    </tr>\n",
       "    <tr>\n",
       "      <td>Color intensity</td>\n",
       "      <td>0.265668</td>\n",
       "      <td>0.546364</td>\n",
       "      <td>0.258887</td>\n",
       "      <td>0.018732</td>\n",
       "      <td>0.199950</td>\n",
       "      <td>-0.055136</td>\n",
       "      <td>-0.172379</td>\n",
       "      <td>0.139057</td>\n",
       "      <td>1.000000</td>\n",
       "      <td>-0.521813</td>\n",
       "      <td>0.316100</td>\n",
       "    </tr>\n",
       "    <tr>\n",
       "      <td>Hue</td>\n",
       "      <td>-0.617369</td>\n",
       "      <td>-0.071747</td>\n",
       "      <td>-0.074667</td>\n",
       "      <td>-0.273955</td>\n",
       "      <td>0.055398</td>\n",
       "      <td>0.433681</td>\n",
       "      <td>0.543479</td>\n",
       "      <td>-0.262640</td>\n",
       "      <td>-0.521813</td>\n",
       "      <td>1.000000</td>\n",
       "      <td>0.236183</td>\n",
       "    </tr>\n",
       "    <tr>\n",
       "      <td>Proline</td>\n",
       "      <td>-0.633717</td>\n",
       "      <td>0.643720</td>\n",
       "      <td>0.223626</td>\n",
       "      <td>-0.440597</td>\n",
       "      <td>0.393351</td>\n",
       "      <td>0.498115</td>\n",
       "      <td>0.494193</td>\n",
       "      <td>-0.311385</td>\n",
       "      <td>0.316100</td>\n",
       "      <td>0.236183</td>\n",
       "      <td>1.000000</td>\n",
       "    </tr>\n",
       "  </tbody>\n",
       "</table>\n",
       "</div>"
      ],
      "text/plain": [
       "                         Class   Alcohol       Ash  Alcalinity of ash  \\\n",
       "Class                 1.000000 -0.328222 -0.049643           0.517859   \n",
       "Alcohol              -0.328222  1.000000  0.211545          -0.310235   \n",
       "Ash                  -0.049643  0.211545  1.000000           0.443367   \n",
       "Alcalinity of ash     0.517859 -0.310235  0.443367           1.000000   \n",
       "Magnesium            -0.209179  0.270798  0.286587          -0.083333   \n",
       "Total phenols        -0.719163  0.289101  0.128980          -0.321113   \n",
       "Flavanoids           -0.847498  0.236815  0.115077          -0.351370   \n",
       "Nonflavanoid phenols  0.489109 -0.155929  0.186230           0.361922   \n",
       "Color intensity       0.265668  0.546364  0.258887           0.018732   \n",
       "Hue                  -0.617369 -0.071747 -0.074667          -0.273955   \n",
       "Proline              -0.633717  0.643720  0.223626          -0.440597   \n",
       "\n",
       "                      Magnesium  Total phenols  Flavanoids  \\\n",
       "Class                 -0.209179      -0.719163   -0.847498   \n",
       "Alcohol                0.270798       0.289101    0.236815   \n",
       "Ash                    0.286587       0.128980    0.115077   \n",
       "Alcalinity of ash     -0.083333      -0.321113   -0.351370   \n",
       "Magnesium              1.000000       0.214401    0.195784   \n",
       "Total phenols          0.214401       1.000000    0.864564   \n",
       "Flavanoids             0.195784       0.864564    1.000000   \n",
       "Nonflavanoid phenols  -0.256294      -0.449935   -0.537900   \n",
       "Color intensity        0.199950      -0.055136   -0.172379   \n",
       "Hue                    0.055398       0.433681    0.543479   \n",
       "Proline                0.393351       0.498115    0.494193   \n",
       "\n",
       "                      Nonflavanoid phenols  Color intensity       Hue  \\\n",
       "Class                             0.489109         0.265668 -0.617369   \n",
       "Alcohol                          -0.155929         0.546364 -0.071747   \n",
       "Ash                               0.186230         0.258887 -0.074667   \n",
       "Alcalinity of ash                 0.361922         0.018732 -0.273955   \n",
       "Magnesium                        -0.256294         0.199950  0.055398   \n",
       "Total phenols                    -0.449935        -0.055136  0.433681   \n",
       "Flavanoids                       -0.537900        -0.172379  0.543479   \n",
       "Nonflavanoid phenols              1.000000         0.139057 -0.262640   \n",
       "Color intensity                   0.139057         1.000000 -0.521813   \n",
       "Hue                              -0.262640        -0.521813  1.000000   \n",
       "Proline                          -0.311385         0.316100  0.236183   \n",
       "\n",
       "                       Proline  \n",
       "Class                -0.633717  \n",
       "Alcohol               0.643720  \n",
       "Ash                   0.223626  \n",
       "Alcalinity of ash    -0.440597  \n",
       "Magnesium             0.393351  \n",
       "Total phenols         0.498115  \n",
       "Flavanoids            0.494193  \n",
       "Nonflavanoid phenols -0.311385  \n",
       "Color intensity       0.316100  \n",
       "Hue                   0.236183  \n",
       "Proline               1.000000  "
      ]
     },
     "execution_count": 11,
     "metadata": {},
     "output_type": "execute_result"
    }
   ],
   "source": [
    "df.corr()"
   ]
  },
  {
   "cell_type": "markdown",
   "metadata": {},
   "source": [
    "# 入力変数と出力変数（教師データ）に切り分ける"
   ]
  },
  {
   "cell_type": "code",
   "execution_count": 12,
   "metadata": {},
   "outputs": [
    {
     "data": {
      "text/html": [
       "<div>\n",
       "<style scoped>\n",
       "    .dataframe tbody tr th:only-of-type {\n",
       "        vertical-align: middle;\n",
       "    }\n",
       "\n",
       "    .dataframe tbody tr th {\n",
       "        vertical-align: top;\n",
       "    }\n",
       "\n",
       "    .dataframe thead th {\n",
       "        text-align: right;\n",
       "    }\n",
       "</style>\n",
       "<table border=\"1\" class=\"dataframe\">\n",
       "  <thead>\n",
       "    <tr style=\"text-align: right;\">\n",
       "      <th></th>\n",
       "      <th>Alcohol</th>\n",
       "      <th>Ash</th>\n",
       "      <th>Alcalinity of ash</th>\n",
       "      <th>Magnesium</th>\n",
       "      <th>Total phenols</th>\n",
       "      <th>Flavanoids</th>\n",
       "      <th>Nonflavanoid phenols</th>\n",
       "      <th>Color intensity</th>\n",
       "      <th>Hue</th>\n",
       "      <th>Proline</th>\n",
       "    </tr>\n",
       "  </thead>\n",
       "  <tbody>\n",
       "    <tr>\n",
       "      <td>0</td>\n",
       "      <td>14.23</td>\n",
       "      <td>2.43</td>\n",
       "      <td>15.6</td>\n",
       "      <td>127</td>\n",
       "      <td>2.80</td>\n",
       "      <td>3.06</td>\n",
       "      <td>0.28</td>\n",
       "      <td>5.64</td>\n",
       "      <td>1.04</td>\n",
       "      <td>1065</td>\n",
       "    </tr>\n",
       "    <tr>\n",
       "      <td>1</td>\n",
       "      <td>13.20</td>\n",
       "      <td>2.14</td>\n",
       "      <td>11.2</td>\n",
       "      <td>100</td>\n",
       "      <td>2.65</td>\n",
       "      <td>2.76</td>\n",
       "      <td>0.26</td>\n",
       "      <td>4.38</td>\n",
       "      <td>1.05</td>\n",
       "      <td>1050</td>\n",
       "    </tr>\n",
       "    <tr>\n",
       "      <td>2</td>\n",
       "      <td>13.16</td>\n",
       "      <td>2.67</td>\n",
       "      <td>18.6</td>\n",
       "      <td>101</td>\n",
       "      <td>2.80</td>\n",
       "      <td>3.24</td>\n",
       "      <td>0.30</td>\n",
       "      <td>5.68</td>\n",
       "      <td>1.03</td>\n",
       "      <td>1185</td>\n",
       "    </tr>\n",
       "    <tr>\n",
       "      <td>3</td>\n",
       "      <td>14.37</td>\n",
       "      <td>2.50</td>\n",
       "      <td>16.8</td>\n",
       "      <td>113</td>\n",
       "      <td>3.85</td>\n",
       "      <td>3.49</td>\n",
       "      <td>0.24</td>\n",
       "      <td>7.80</td>\n",
       "      <td>0.86</td>\n",
       "      <td>1480</td>\n",
       "    </tr>\n",
       "    <tr>\n",
       "      <td>4</td>\n",
       "      <td>13.24</td>\n",
       "      <td>2.87</td>\n",
       "      <td>21.0</td>\n",
       "      <td>118</td>\n",
       "      <td>2.80</td>\n",
       "      <td>2.69</td>\n",
       "      <td>0.39</td>\n",
       "      <td>4.32</td>\n",
       "      <td>1.04</td>\n",
       "      <td>735</td>\n",
       "    </tr>\n",
       "    <tr>\n",
       "      <td>...</td>\n",
       "      <td>...</td>\n",
       "      <td>...</td>\n",
       "      <td>...</td>\n",
       "      <td>...</td>\n",
       "      <td>...</td>\n",
       "      <td>...</td>\n",
       "      <td>...</td>\n",
       "      <td>...</td>\n",
       "      <td>...</td>\n",
       "      <td>...</td>\n",
       "    </tr>\n",
       "    <tr>\n",
       "      <td>173</td>\n",
       "      <td>13.71</td>\n",
       "      <td>2.45</td>\n",
       "      <td>20.5</td>\n",
       "      <td>95</td>\n",
       "      <td>1.68</td>\n",
       "      <td>0.61</td>\n",
       "      <td>0.52</td>\n",
       "      <td>7.70</td>\n",
       "      <td>0.64</td>\n",
       "      <td>740</td>\n",
       "    </tr>\n",
       "    <tr>\n",
       "      <td>174</td>\n",
       "      <td>13.40</td>\n",
       "      <td>2.48</td>\n",
       "      <td>23.0</td>\n",
       "      <td>102</td>\n",
       "      <td>1.80</td>\n",
       "      <td>0.75</td>\n",
       "      <td>0.43</td>\n",
       "      <td>7.30</td>\n",
       "      <td>0.70</td>\n",
       "      <td>750</td>\n",
       "    </tr>\n",
       "    <tr>\n",
       "      <td>175</td>\n",
       "      <td>13.27</td>\n",
       "      <td>2.26</td>\n",
       "      <td>20.0</td>\n",
       "      <td>120</td>\n",
       "      <td>1.59</td>\n",
       "      <td>0.69</td>\n",
       "      <td>0.43</td>\n",
       "      <td>10.20</td>\n",
       "      <td>0.59</td>\n",
       "      <td>835</td>\n",
       "    </tr>\n",
       "    <tr>\n",
       "      <td>176</td>\n",
       "      <td>13.17</td>\n",
       "      <td>2.37</td>\n",
       "      <td>20.0</td>\n",
       "      <td>120</td>\n",
       "      <td>1.65</td>\n",
       "      <td>0.68</td>\n",
       "      <td>0.53</td>\n",
       "      <td>9.30</td>\n",
       "      <td>0.60</td>\n",
       "      <td>840</td>\n",
       "    </tr>\n",
       "    <tr>\n",
       "      <td>177</td>\n",
       "      <td>14.13</td>\n",
       "      <td>2.74</td>\n",
       "      <td>24.5</td>\n",
       "      <td>96</td>\n",
       "      <td>2.05</td>\n",
       "      <td>0.76</td>\n",
       "      <td>0.56</td>\n",
       "      <td>9.20</td>\n",
       "      <td>0.61</td>\n",
       "      <td>560</td>\n",
       "    </tr>\n",
       "  </tbody>\n",
       "</table>\n",
       "<p>178 rows × 10 columns</p>\n",
       "</div>"
      ],
      "text/plain": [
       "     Alcohol   Ash  Alcalinity of ash  Magnesium  Total phenols  Flavanoids  \\\n",
       "0      14.23  2.43               15.6        127           2.80        3.06   \n",
       "1      13.20  2.14               11.2        100           2.65        2.76   \n",
       "2      13.16  2.67               18.6        101           2.80        3.24   \n",
       "3      14.37  2.50               16.8        113           3.85        3.49   \n",
       "4      13.24  2.87               21.0        118           2.80        2.69   \n",
       "..       ...   ...                ...        ...            ...         ...   \n",
       "173    13.71  2.45               20.5         95           1.68        0.61   \n",
       "174    13.40  2.48               23.0        102           1.80        0.75   \n",
       "175    13.27  2.26               20.0        120           1.59        0.69   \n",
       "176    13.17  2.37               20.0        120           1.65        0.68   \n",
       "177    14.13  2.74               24.5         96           2.05        0.76   \n",
       "\n",
       "     Nonflavanoid phenols  Color intensity   Hue  Proline  \n",
       "0                    0.28             5.64  1.04     1065  \n",
       "1                    0.26             4.38  1.05     1050  \n",
       "2                    0.30             5.68  1.03     1185  \n",
       "3                    0.24             7.80  0.86     1480  \n",
       "4                    0.39             4.32  1.04      735  \n",
       "..                    ...              ...   ...      ...  \n",
       "173                  0.52             7.70  0.64      740  \n",
       "174                  0.43             7.30  0.70      750  \n",
       "175                  0.43            10.20  0.59      835  \n",
       "176                  0.53             9.30  0.60      840  \n",
       "177                  0.56             9.20  0.61      560  \n",
       "\n",
       "[178 rows x 10 columns]"
      ]
     },
     "execution_count": 12,
     "metadata": {},
     "output_type": "execute_result"
    }
   ],
   "source": [
    "# df.iloc[行, 列]　integer-location\n",
    "x = df.iloc[:, 1:]\n",
    "x"
   ]
  },
  {
   "cell_type": "code",
   "execution_count": 13,
   "metadata": {},
   "outputs": [
    {
     "data": {
      "text/plain": [
       "0      1\n",
       "1      1\n",
       "2      1\n",
       "3      1\n",
       "4      1\n",
       "      ..\n",
       "173    3\n",
       "174    3\n",
       "175    3\n",
       "176    3\n",
       "177    3\n",
       "Name: Class, Length: 178, dtype: int64"
      ]
     },
     "execution_count": 13,
     "metadata": {},
     "output_type": "execute_result"
    }
   ],
   "source": [
    "t = df.iloc[:, 0]\n",
    "t"
   ]
  },
  {
   "cell_type": "code",
   "execution_count": 14,
   "metadata": {},
   "outputs": [
    {
     "data": {
      "text/plain": [
       "pandas.core.frame.DataFrame"
      ]
     },
     "execution_count": 14,
     "metadata": {},
     "output_type": "execute_result"
    }
   ],
   "source": [
    "type(x)"
   ]
  },
  {
   "cell_type": "code",
   "execution_count": 15,
   "metadata": {},
   "outputs": [
    {
     "data": {
      "text/plain": [
       "numpy.ndarray"
      ]
     },
     "execution_count": 15,
     "metadata": {},
     "output_type": "execute_result"
    }
   ],
   "source": [
    "# chainerで使うためには、numpy配列にしなければならない(なぜvaluesっていう単語？)\n",
    "type(x.values) "
   ]
  },
  {
   "cell_type": "code",
   "execution_count": 16,
   "metadata": {},
   "outputs": [],
   "source": [
    "t = t.values-1 #chainerで使うためには、０スタートにする必要がある\n",
    "x = x.values"
   ]
  },
  {
   "cell_type": "code",
   "execution_count": 17,
   "metadata": {},
   "outputs": [
    {
     "data": {
      "text/plain": [
       "0"
      ]
     },
     "execution_count": 17,
     "metadata": {},
     "output_type": "execute_result"
    }
   ],
   "source": [
    "t.min()"
   ]
  },
  {
   "cell_type": "code",
   "execution_count": 18,
   "metadata": {},
   "outputs": [
    {
     "data": {
      "text/plain": [
       "dtype('int64')"
      ]
     },
     "execution_count": 18,
     "metadata": {},
     "output_type": "execute_result"
    }
   ],
   "source": [
    "t.dtype"
   ]
  },
  {
   "cell_type": "code",
   "execution_count": 19,
   "metadata": {},
   "outputs": [
    {
     "data": {
      "text/plain": [
       "dtype('float64')"
      ]
     },
     "execution_count": 19,
     "metadata": {},
     "output_type": "execute_result"
    }
   ],
   "source": [
    "x.dtype"
   ]
  },
  {
   "cell_type": "code",
   "execution_count": 20,
   "metadata": {},
   "outputs": [],
   "source": [
    "# chainerで使うためには、astypeで32ビットにする（tはfloatではなく、intで良い。なんで？）\n",
    "x = x.astype('f')\n",
    "t = t.astype('i')"
   ]
  },
  {
   "cell_type": "code",
   "execution_count": 21,
   "metadata": {},
   "outputs": [
    {
     "data": {
      "text/plain": [
       "dtype('int32')"
      ]
     },
     "execution_count": 21,
     "metadata": {},
     "output_type": "execute_result"
    }
   ],
   "source": [
    "t.dtype"
   ]
  },
  {
   "cell_type": "code",
   "execution_count": 22,
   "metadata": {},
   "outputs": [
    {
     "data": {
      "text/plain": [
       "dtype('float32')"
      ]
     },
     "execution_count": 22,
     "metadata": {},
     "output_type": "execute_result"
    }
   ],
   "source": [
    "x.dtype"
   ]
  },
  {
   "cell_type": "markdown",
   "metadata": {},
   "source": [
    "# ニューラルネットワークのモデルを定義"
   ]
  },
  {
   "cell_type": "code",
   "execution_count": 23,
   "metadata": {},
   "outputs": [],
   "source": [
    "import chainer.functions as F #非線形変換に使うrelu関数が入っている\n",
    "import chainer.links as L"
   ]
  },
  {
   "cell_type": "code",
   "execution_count": 24,
   "metadata": {},
   "outputs": [],
   "source": [
    "import chainer\n",
    "class NN(chainer.Chain):\n",
    "    \n",
    "    #モデルの構造\n",
    "    def __init__(self, n_mid_units=5, n_out=3):\n",
    "        super().__init__()\n",
    "        with self.init_scope():\n",
    "            self.fc1 = L.Linear(None, n_mid_units) #Noneとすることで、chainer側が勝手に読み取ってくれる。１０個入ってきたら１０個とする\n",
    "            self.fc2 = L.Linear(None, n_out) #このNoneも、上のn_mid_unitsに応じて、勝手に処理してくれる\n",
    "    \n",
    "    #順伝播\n",
    "    def __call__(self, x):\n",
    "        h = self.fc1(x)\n",
    "        h = F.relu(h)\n",
    "        h = self.fc2(h) #hのみで表した方が見やすいらしい\n",
    "        return h\n",
    "    "
   ]
  },
  {
   "cell_type": "code",
   "execution_count": 25,
   "metadata": {},
   "outputs": [],
   "source": [
    "import numpy as np\n",
    "np.random.seed(1)\n",
    "nn = NN() #ここで(L.Linearで)ランダムな値が入るので、上記でシードを固定する必要がある\n",
    "#モデルの定義\n",
    "model = L.Classifier(nn) \n",
    "# 重回帰分析のモデルの宣言は、model = LinearRegression()とmodel.fit()だった(これはsklearnの関数)\n",
    "#　今回は「回帰」ではなく、「クラス分類」なので、L.Classifierを使うみたい"
   ]
  },
  {
   "cell_type": "markdown",
   "metadata": {},
   "source": [
    "# Chainerで使用するデータセットの形式"
   ]
  },
  {
   "cell_type": "code",
   "execution_count": 33,
   "metadata": {},
   "outputs": [],
   "source": [
    "# タプルにして(zip関数)、リストにする(chainerでのお決まりと覚えておく)\n",
    "dataset = list(zip(x, t))"
   ]
  },
  {
   "cell_type": "code",
   "execution_count": 34,
   "metadata": {},
   "outputs": [],
   "source": [
    "# dataset"
   ]
  },
  {
   "cell_type": "markdown",
   "metadata": {},
   "source": [
    "# 訓練データと検証データに分割"
   ]
  },
  {
   "cell_type": "code",
   "execution_count": 36,
   "metadata": {},
   "outputs": [],
   "source": [
    "n_train = int(len(dataset) * 0.7)\n",
    "#小数点になるとキリが悪いのでint関数で整数にする"
   ]
  },
  {
   "cell_type": "code",
   "execution_count": 37,
   "metadata": {},
   "outputs": [],
   "source": [
    "train, test = chainer.datasets.split_dataset_random(dataset, n_train, seed=1) #ランダムにすることが大事"
   ]
  },
  {
   "cell_type": "code",
   "execution_count": 38,
   "metadata": {},
   "outputs": [
    {
     "data": {
      "text/plain": [
       "124"
      ]
     },
     "execution_count": 38,
     "metadata": {},
     "output_type": "execute_result"
    }
   ],
   "source": [
    "len(train)"
   ]
  },
  {
   "cell_type": "code",
   "execution_count": 39,
   "metadata": {},
   "outputs": [
    {
     "data": {
      "text/plain": [
       "54"
      ]
     },
     "execution_count": 39,
     "metadata": {},
     "output_type": "execute_result"
    }
   ],
   "source": [
    "len(test)"
   ]
  },
  {
   "cell_type": "markdown",
   "metadata": {},
   "source": [
    "# 学習するための設定"
   ]
  },
  {
   "cell_type": "markdown",
   "metadata": {},
   "source": [
    "## Optimizerの設定（wを最適化するためのアルゴリズムの選択）"
   ]
  },
  {
   "cell_type": "code",
   "execution_count": 40,
   "metadata": {},
   "outputs": [],
   "source": [
    "# 今回は、SGD（確率的勾配降下法）というアルゴリズムを使う\n",
    "import chainer\n",
    "optimizer = chainer.optimizers.SGD()"
   ]
  },
  {
   "cell_type": "code",
   "execution_count": 42,
   "metadata": {},
   "outputs": [
    {
     "data": {
      "text/plain": [
       "<chainer.optimizers.sgd.SGD at 0x126107710>"
      ]
     },
     "execution_count": 42,
     "metadata": {},
     "output_type": "execute_result"
    }
   ],
   "source": [
    "# optimizerをmodelと紐付ける\n",
    "optimizer.setup(model)"
   ]
  },
  {
   "cell_type": "markdown",
   "metadata": {},
   "source": [
    "## Iteratorの設定（バッチサイズの設定）"
   ]
  },
  {
   "cell_type": "code",
   "execution_count": 43,
   "metadata": {},
   "outputs": [],
   "source": [
    "batchsize = 10\n",
    "# サンプル数（今回なら178）に応じて、だいたい１０〜１００の間で決める"
   ]
  },
  {
   "cell_type": "code",
   "execution_count": 45,
   "metadata": {},
   "outputs": [],
   "source": [
    "train_iter = chainer.iterators.SerialIterator(train, batchsize)\n",
    "test_iter = chainer.iterators.SerialIterator(test, batchsize, repeat=False, shuffle=False)"
   ]
  },
  {
   "cell_type": "markdown",
   "metadata": {},
   "source": [
    "## Updaterの設定（使用するデバイスをCPUにするかGPUにするかの設定）"
   ]
  },
  {
   "cell_type": "code",
   "execution_count": 46,
   "metadata": {},
   "outputs": [],
   "source": [
    "from chainer import training"
   ]
  },
  {
   "cell_type": "code",
   "execution_count": 48,
   "metadata": {},
   "outputs": [],
   "source": [
    "updater = training.StandardUpdater(train_iter, optimizer, device=-1)\n",
    "# CPUが-1, GPUが0(ただしGPUの環境を整えておく必要がある)"
   ]
  },
  {
   "cell_type": "markdown",
   "metadata": {},
   "source": [
    "## TrainerとExtensionsの設定"
   ]
  },
  {
   "cell_type": "code",
   "execution_count": 50,
   "metadata": {},
   "outputs": [],
   "source": [
    "from chainer.training import extensions"
   ]
  },
  {
   "cell_type": "code",
   "execution_count": 51,
   "metadata": {},
   "outputs": [],
   "source": [
    "#エポックの数（何回学習するか）\n",
    "epoch = 50"
   ]
  },
  {
   "cell_type": "code",
   "execution_count": 54,
   "metadata": {},
   "outputs": [],
   "source": [
    "# trainerの宣言\n",
    "trainer = training.Trainer(updater, (epoch, 'epoch'), out='result/wine')\n",
    "# outは、学習結果のログを吐き出すフォルダの設定\n",
    "\n",
    "# 検証データで評価\n",
    "trainer.extend(extensions.Evaluator(test_iter, model, device=-1))\n",
    "\n",
    "#　ログの単位の設定（１epochごとに出力する設定にした）\n",
    "trainer.extend(extensions.LogReport(trigger=(1, 'epoch')))\n",
    "\n",
    "# 出力する項目の設定\n",
    "trainer.extend(extensions.PrintReport(['epoch', 'main/accuracy', 'validation/main/accuracy', 'main/loss', 'validation/main/loss', 'elapsed_time']), trigger=(1, 'epoch'))\n",
    "#1エポックごと(trigger)にtrain・testデータに対するloss(損失関数),accuracy(精度),elasped_time(経過時間)を出力する"
   ]
  },
  {
   "cell_type": "markdown",
   "metadata": {},
   "source": [
    "# 学習の実行"
   ]
  },
  {
   "cell_type": "code",
   "execution_count": 55,
   "metadata": {},
   "outputs": [
    {
     "name": "stdout",
     "output_type": "stream",
     "text": [
      "epoch       main/accuracy  validation/main/accuracy  main/loss   validation/main/loss  elapsed_time\n",
      "\u001b[J1           0.392308       0.341667                  54.0227     1.09851               0.0259237     \n",
      "\u001b[J2           0.416667       0.341667                  1.09663     1.09853               0.0486514     \n",
      "\u001b[J3           0.423077       0.341667                  1.09503     1.09859               0.0712083     \n",
      "\u001b[J4           0.416667       0.341667                  1.09345     1.09873               0.0921272     \n",
      "\u001b[J5           0.416667       0.341667                  1.09245     1.0989                0.113841      \n",
      "\u001b[J6           0.423077       0.341667                  1.09065     1.09914               0.136859      \n",
      "\u001b[J7           0.416667       0.341667                  1.09049     1.09936               0.157869      \n",
      "\u001b[J8           0.446154       0.341667                  1.08579     1.09977               0.180684      \n",
      "\u001b[J9           0.383333       0.341667                  1.09157     1.09999               0.202991      \n",
      "\u001b[J10          0.425          0.341667                  1.08742     1.10028               0.224841      \n",
      "\u001b[J11          0.423077       0.341667                  1.08583     1.10067               0.247827      \n",
      "\u001b[J12          0.416667       0.341667                  1.08617     1.10102               0.268948      \n",
      "\u001b[J13          0.415385       0.341667                  1.08501     1.10143               0.291947      \n",
      "\u001b[J14          0.425          0.341667                  1.08361     1.10182               0.313014      \n",
      "\u001b[J15          0.416667       0.341667                  1.08506     1.10216               0.335126      \n",
      "\u001b[J16          0.423077       0.341667                  1.08249     1.1026                0.358771      \n",
      "\u001b[J17          0.416667       0.341667                  1.08325     1.10298               0.380064      \n",
      "\u001b[J18          0.4            0.341667                  1.08658     1.10325               0.403043      \n",
      "\u001b[J19          0.433333       0.341667                  1.07911     1.10374               0.425106      \n",
      "\u001b[J20          0.425          0.341667                  1.08079     1.10415               0.446977      \n",
      "\u001b[J21          0.415385       0.341667                  1.08256     1.10453               0.470332      \n",
      "\u001b[J22          0.416667       0.341667                  1.08158     1.1049                0.492101      \n",
      "\u001b[J23          0.430769       0.341667                  1.07727     1.10544               0.515358      \n",
      "\u001b[J24          0.408333       0.341667                  1.08482     1.10565               0.53757       \n",
      "\u001b[J25          0.425          0.341667                  1.07812     1.1061                0.559056      \n",
      "\u001b[J26          0.423077       0.341667                  1.07995     1.10649               0.582215      \n",
      "\u001b[J27          0.408333       0.341667                  1.08161     1.10679               0.605607      \n",
      "\u001b[J28          0.430769       0.341667                  1.07961     1.10715               0.629053      \n",
      "\u001b[J29          0.4            0.341667                  1.08154     1.10744               0.65155       \n",
      "\u001b[J30          0.433333       0.341667                  1.07517     1.10793               0.674142      \n",
      "\u001b[J31          0.430769       0.341667                  1.07514     1.10845               0.697563      \n",
      "\u001b[J32          0.416667       0.341667                  1.08095     1.1087                0.719328      \n",
      "\u001b[J33          0.407692       0.341667                  1.08029     1.10899               0.743361      \n",
      "\u001b[J34          0.416667       0.341667                  1.08229     1.10914               0.766115      \n",
      "\u001b[J35          0.425          0.341667                  1.07585     1.10954               0.787921      \n",
      "\u001b[J36          0.423077       0.341667                  1.07685     1.10992               0.811783      \n",
      "\u001b[J37          0.416667       0.341667                  1.08056     1.11012               0.834809      \n",
      "\u001b[J38          0.423077       0.341667                  1.07385     1.11061               0.858237      \n",
      "\u001b[J39          0.425          0.341667                  1.08044     1.11079               0.880058      \n",
      "\u001b[J40          0.408333       0.341667                  1.08054     1.11098               0.901835      \n",
      "\u001b[J41          0.415385       0.341667                  1.08119     1.11112               0.925559      \n",
      "\u001b[J42          0.416667       0.341667                  1.07695     1.11142               0.947483      \n",
      "\u001b[J43          0.407692       0.341667                  1.0814      1.11155               0.970652      \n",
      "\u001b[J44          0.433333       0.341667                  1.07322     1.11196               0.992892      \n",
      "\u001b[J45          0.425          0.341667                  1.07669     1.11222               1.015         \n",
      "\u001b[J46          0.423077       0.341667                  1.07628     1.11254               1.03917       \n",
      "\u001b[J47          0.416667       0.341667                  1.0782      1.11272               1.06179       \n",
      "\u001b[J48          0.407692       0.341667                  1.08279     1.11272               1.08567       \n",
      "\u001b[J49          0.416667       0.341667                  1.07635     1.11297               1.10943       \n",
      "\u001b[J50          0.433333       0.341667                  1.0746      1.11327               1.13221       \n"
     ]
    }
   ],
   "source": [
    "trainer.run() #validation/main/accuracyが大事"
   ]
  },
  {
   "cell_type": "markdown",
   "metadata": {},
   "source": [
    "# 結果の確認（json形式でログを読み込み、pandasのデータ形式に変える）"
   ]
  },
  {
   "cell_type": "code",
   "execution_count": 57,
   "metadata": {},
   "outputs": [],
   "source": [
    "import json"
   ]
  },
  {
   "cell_type": "code",
   "execution_count": 58,
   "metadata": {},
   "outputs": [],
   "source": [
    "with open('result/wine/log') as f:\n",
    "    logs = json.load(f)"
   ]
  },
  {
   "cell_type": "code",
   "execution_count": 61,
   "metadata": {},
   "outputs": [],
   "source": [
    "results = pd.DataFrame(logs)"
   ]
  },
  {
   "cell_type": "code",
   "execution_count": 64,
   "metadata": {},
   "outputs": [
    {
     "data": {
      "text/plain": [
       "<matplotlib.axes._subplots.AxesSubplot at 0x12625b9d0>"
      ]
     },
     "execution_count": 64,
     "metadata": {},
     "output_type": "execute_result"
    },
    {
     "data": {
      "image/png": "[encoded data removed]",
      "text/plain": [
       "<Figure size 432x288 with 1 Axes>"
      ]
     },
     "metadata": {
      "needs_background": "light"
     },
     "output_type": "display_data"
    }
   ],
   "source": [
    "%matplotlib inline\n",
    "results[['main/accuracy', 'validation/main/accuracy']].plot()\n",
    "#pandasの中でmatplotlibをベースとしたグラフの作成ができるようになっている"
   ]
  }
 ],
 "metadata": {
  "kernelspec": {
   "display_name": "Python 3",
   "language": "python",
   "name": "python3"
  },
  "language_info": {
   "codemirror_mode": {
    "name": "ipython",
    "version": 3
   },
   "file_extension": ".py",
   "mimetype": "text/x-python",
   "name": "python",
   "nbconvert_exporter": "python",
   "pygments_lexer": "ipython3",
   "version": "3.8.6"
  }
 },
 "nbformat": 4,
 "nbformat_minor": 2
}
